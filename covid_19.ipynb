{
 "cells": [
  {
   "cell_type": "markdown",
   "metadata": {},
   "source": [
    "# **Data Visualization II (Visualizing COVID-19 Trends):**\n",
    "------------------------"
   ]
  },
  {
   "cell_type": "code",
   "execution_count": 2,
   "metadata": {},
   "outputs": [],
   "source": [
    "import pandas as pd\n",
    "import numpy as np\n",
    "import matplotlib.pyplot as plt\n",
    "import seaborn as sns\n",
    "import plotly.express as px \n",
    "import plotly.graph_objects as go\n",
    "from plotly.subplots import make_subplots \n",
    "from datetime import datetime\n"
   ]
  },
  {
   "cell_type": "code",
   "execution_count": 7,
   "metadata": {},
   "outputs": [],
   "source": [
    "covid_df = pd.read_csv('covid_19_india.csv')\n",
    "vaccine_df = pd.read_csv('covid_vaccine_statewise.csv')\n"
   ]
  },
  {
   "cell_type": "code",
   "execution_count": 4,
   "metadata": {},
   "outputs": [
    {
     "data": {
      "text/html": [
       "<div>\n",
       "<style scoped>\n",
       "    .dataframe tbody tr th:only-of-type {\n",
       "        vertical-align: middle;\n",
       "    }\n",
       "\n",
       "    .dataframe tbody tr th {\n",
       "        vertical-align: top;\n",
       "    }\n",
       "\n",
       "    .dataframe thead th {\n",
       "        text-align: right;\n",
       "    }\n",
       "</style>\n",
       "<table border=\"1\" class=\"dataframe\">\n",
       "  <thead>\n",
       "    <tr style=\"text-align: right;\">\n",
       "      <th></th>\n",
       "      <th>Sno</th>\n",
       "      <th>Date</th>\n",
       "      <th>Time</th>\n",
       "      <th>State/UnionTerritory</th>\n",
       "      <th>ConfirmedIndianNational</th>\n",
       "      <th>ConfirmedForeignNational</th>\n",
       "      <th>Cured</th>\n",
       "      <th>Deaths</th>\n",
       "      <th>Confirmed</th>\n",
       "    </tr>\n",
       "  </thead>\n",
       "  <tbody>\n",
       "    <tr>\n",
       "      <th>0</th>\n",
       "      <td>1.0</td>\n",
       "      <td>2020-01-30</td>\n",
       "      <td>6:00 PM</td>\n",
       "      <td>Kerala</td>\n",
       "      <td>1</td>\n",
       "      <td>0</td>\n",
       "      <td>0.0</td>\n",
       "      <td>0.0</td>\n",
       "      <td>1.0</td>\n",
       "    </tr>\n",
       "    <tr>\n",
       "      <th>1</th>\n",
       "      <td>2.0</td>\n",
       "      <td>2020-01-31</td>\n",
       "      <td>6:00 PM</td>\n",
       "      <td>Kerala</td>\n",
       "      <td>1</td>\n",
       "      <td>0</td>\n",
       "      <td>0.0</td>\n",
       "      <td>0.0</td>\n",
       "      <td>1.0</td>\n",
       "    </tr>\n",
       "    <tr>\n",
       "      <th>2</th>\n",
       "      <td>3.0</td>\n",
       "      <td>2020-02-01</td>\n",
       "      <td>6:00 PM</td>\n",
       "      <td>Kerala</td>\n",
       "      <td>2</td>\n",
       "      <td>0</td>\n",
       "      <td>0.0</td>\n",
       "      <td>0.0</td>\n",
       "      <td>2.0</td>\n",
       "    </tr>\n",
       "    <tr>\n",
       "      <th>3</th>\n",
       "      <td>4.0</td>\n",
       "      <td>2020-02-02</td>\n",
       "      <td>6:00 PM</td>\n",
       "      <td>Kerala</td>\n",
       "      <td>3</td>\n",
       "      <td>0</td>\n",
       "      <td>0.0</td>\n",
       "      <td>0.0</td>\n",
       "      <td>3.0</td>\n",
       "    </tr>\n",
       "    <tr>\n",
       "      <th>4</th>\n",
       "      <td>5.0</td>\n",
       "      <td>2020-02-03</td>\n",
       "      <td>6:00 PM</td>\n",
       "      <td>Kerala</td>\n",
       "      <td>3</td>\n",
       "      <td>0</td>\n",
       "      <td>0.0</td>\n",
       "      <td>0.0</td>\n",
       "      <td>3.0</td>\n",
       "    </tr>\n",
       "    <tr>\n",
       "      <th>5</th>\n",
       "      <td>6.0</td>\n",
       "      <td>2020-02-04</td>\n",
       "      <td>6:00 PM</td>\n",
       "      <td>Kerala</td>\n",
       "      <td>3</td>\n",
       "      <td>0</td>\n",
       "      <td>0.0</td>\n",
       "      <td>0.0</td>\n",
       "      <td>3.0</td>\n",
       "    </tr>\n",
       "    <tr>\n",
       "      <th>6</th>\n",
       "      <td>7.0</td>\n",
       "      <td>2020-02-05</td>\n",
       "      <td>6:00 PM</td>\n",
       "      <td>Kerala</td>\n",
       "      <td>3</td>\n",
       "      <td>0</td>\n",
       "      <td>0.0</td>\n",
       "      <td>0.0</td>\n",
       "      <td>3.0</td>\n",
       "    </tr>\n",
       "    <tr>\n",
       "      <th>7</th>\n",
       "      <td>8.0</td>\n",
       "      <td>2020-02-06</td>\n",
       "      <td>6:00 PM</td>\n",
       "      <td>Kerala</td>\n",
       "      <td>3</td>\n",
       "      <td>0</td>\n",
       "      <td>0.0</td>\n",
       "      <td>0.0</td>\n",
       "      <td>3.0</td>\n",
       "    </tr>\n",
       "    <tr>\n",
       "      <th>8</th>\n",
       "      <td>9.0</td>\n",
       "      <td>2020-02-07</td>\n",
       "      <td>6:00 PM</td>\n",
       "      <td>Kerala</td>\n",
       "      <td>3</td>\n",
       "      <td>0</td>\n",
       "      <td>0.0</td>\n",
       "      <td>0.0</td>\n",
       "      <td>3.0</td>\n",
       "    </tr>\n",
       "    <tr>\n",
       "      <th>9</th>\n",
       "      <td>10.0</td>\n",
       "      <td>2020-02-08</td>\n",
       "      <td>6:00 PM</td>\n",
       "      <td>Kerala</td>\n",
       "      <td>3</td>\n",
       "      <td>0</td>\n",
       "      <td>0.0</td>\n",
       "      <td>0.0</td>\n",
       "      <td>3.0</td>\n",
       "    </tr>\n",
       "  </tbody>\n",
       "</table>\n",
       "</div>"
      ],
      "text/plain": [
       "    Sno        Date     Time State/UnionTerritory ConfirmedIndianNational  \\\n",
       "0   1.0  2020-01-30  6:00 PM               Kerala                       1   \n",
       "1   2.0  2020-01-31  6:00 PM               Kerala                       1   \n",
       "2   3.0  2020-02-01  6:00 PM               Kerala                       2   \n",
       "3   4.0  2020-02-02  6:00 PM               Kerala                       3   \n",
       "4   5.0  2020-02-03  6:00 PM               Kerala                       3   \n",
       "5   6.0  2020-02-04  6:00 PM               Kerala                       3   \n",
       "6   7.0  2020-02-05  6:00 PM               Kerala                       3   \n",
       "7   8.0  2020-02-06  6:00 PM               Kerala                       3   \n",
       "8   9.0  2020-02-07  6:00 PM               Kerala                       3   \n",
       "9  10.0  2020-02-08  6:00 PM               Kerala                       3   \n",
       "\n",
       "  ConfirmedForeignNational  Cured  Deaths  Confirmed  \n",
       "0                        0    0.0     0.0        1.0  \n",
       "1                        0    0.0     0.0        1.0  \n",
       "2                        0    0.0     0.0        2.0  \n",
       "3                        0    0.0     0.0        3.0  \n",
       "4                        0    0.0     0.0        3.0  \n",
       "5                        0    0.0     0.0        3.0  \n",
       "6                        0    0.0     0.0        3.0  \n",
       "7                        0    0.0     0.0        3.0  \n",
       "8                        0    0.0     0.0        3.0  \n",
       "9                        0    0.0     0.0        3.0  "
      ]
     },
     "execution_count": 4,
     "metadata": {},
     "output_type": "execute_result"
    }
   ],
   "source": [
    "covid_df.head(10)"
   ]
  },
  {
   "cell_type": "code",
   "execution_count": 5,
   "metadata": {},
   "outputs": [
    {
     "name": "stdout",
     "output_type": "stream",
     "text": [
      "<class 'pandas.core.frame.DataFrame'>\n",
      "RangeIndex: 15114 entries, 0 to 15113\n",
      "Data columns (total 9 columns):\n",
      " #   Column                    Non-Null Count  Dtype  \n",
      "---  ------                    --------------  -----  \n",
      " 0   Sno                       15086 non-null  float64\n",
      " 1   Date                      15086 non-null  object \n",
      " 2   Time                      15086 non-null  object \n",
      " 3   State/UnionTerritory      15086 non-null  object \n",
      " 4   ConfirmedIndianNational   15086 non-null  object \n",
      " 5   ConfirmedForeignNational  15086 non-null  object \n",
      " 6   Cured                     15086 non-null  float64\n",
      " 7   Deaths                    15086 non-null  float64\n",
      " 8   Confirmed                 15086 non-null  float64\n",
      "dtypes: float64(4), object(5)\n",
      "memory usage: 1.0+ MB\n"
     ]
    }
   ],
   "source": [
    "covid_df.info()"
   ]
  },
  {
   "cell_type": "code",
   "execution_count": 6,
   "metadata": {},
   "outputs": [
    {
     "data": {
      "text/html": [
       "<div>\n",
       "<style scoped>\n",
       "    .dataframe tbody tr th:only-of-type {\n",
       "        vertical-align: middle;\n",
       "    }\n",
       "\n",
       "    .dataframe tbody tr th {\n",
       "        vertical-align: top;\n",
       "    }\n",
       "\n",
       "    .dataframe thead th {\n",
       "        text-align: right;\n",
       "    }\n",
       "</style>\n",
       "<table border=\"1\" class=\"dataframe\">\n",
       "  <thead>\n",
       "    <tr style=\"text-align: right;\">\n",
       "      <th></th>\n",
       "      <th>Sno</th>\n",
       "      <th>Cured</th>\n",
       "      <th>Deaths</th>\n",
       "      <th>Confirmed</th>\n",
       "    </tr>\n",
       "  </thead>\n",
       "  <tbody>\n",
       "    <tr>\n",
       "      <th>count</th>\n",
       "      <td>15086.000000</td>\n",
       "      <td>1.508600e+04</td>\n",
       "      <td>15086.000000</td>\n",
       "      <td>1.508600e+04</td>\n",
       "    </tr>\n",
       "    <tr>\n",
       "      <th>mean</th>\n",
       "      <td>7543.500000</td>\n",
       "      <td>1.747937e+05</td>\n",
       "      <td>2721.084449</td>\n",
       "      <td>1.942820e+05</td>\n",
       "    </tr>\n",
       "    <tr>\n",
       "      <th>std</th>\n",
       "      <td>4355.097416</td>\n",
       "      <td>3.648330e+05</td>\n",
       "      <td>7182.672358</td>\n",
       "      <td>4.095184e+05</td>\n",
       "    </tr>\n",
       "    <tr>\n",
       "      <th>min</th>\n",
       "      <td>1.000000</td>\n",
       "      <td>0.000000e+00</td>\n",
       "      <td>0.000000</td>\n",
       "      <td>0.000000e+00</td>\n",
       "    </tr>\n",
       "    <tr>\n",
       "      <th>25%</th>\n",
       "      <td>3772.250000</td>\n",
       "      <td>1.685000e+03</td>\n",
       "      <td>12.000000</td>\n",
       "      <td>2.935500e+03</td>\n",
       "    </tr>\n",
       "    <tr>\n",
       "      <th>50%</th>\n",
       "      <td>7543.500000</td>\n",
       "      <td>1.964700e+04</td>\n",
       "      <td>364.000000</td>\n",
       "      <td>2.608150e+04</td>\n",
       "    </tr>\n",
       "    <tr>\n",
       "      <th>75%</th>\n",
       "      <td>11314.750000</td>\n",
       "      <td>2.087552e+05</td>\n",
       "      <td>2170.000000</td>\n",
       "      <td>2.216012e+05</td>\n",
       "    </tr>\n",
       "    <tr>\n",
       "      <th>max</th>\n",
       "      <td>15086.000000</td>\n",
       "      <td>4.927480e+06</td>\n",
       "      <td>83777.000000</td>\n",
       "      <td>5.433506e+06</td>\n",
       "    </tr>\n",
       "  </tbody>\n",
       "</table>\n",
       "</div>"
      ],
      "text/plain": [
       "                Sno         Cured        Deaths     Confirmed\n",
       "count  15086.000000  1.508600e+04  15086.000000  1.508600e+04\n",
       "mean    7543.500000  1.747937e+05   2721.084449  1.942820e+05\n",
       "std     4355.097416  3.648330e+05   7182.672358  4.095184e+05\n",
       "min        1.000000  0.000000e+00      0.000000  0.000000e+00\n",
       "25%     3772.250000  1.685000e+03     12.000000  2.935500e+03\n",
       "50%     7543.500000  1.964700e+04    364.000000  2.608150e+04\n",
       "75%    11314.750000  2.087552e+05   2170.000000  2.216012e+05\n",
       "max    15086.000000  4.927480e+06  83777.000000  5.433506e+06"
      ]
     },
     "execution_count": 6,
     "metadata": {},
     "output_type": "execute_result"
    }
   ],
   "source": [
    "covid_df.describe()"
   ]
  },
  {
   "cell_type": "code",
   "execution_count": 8,
   "metadata": {},
   "outputs": [
    {
     "data": {
      "text/html": [
       "<div>\n",
       "<style scoped>\n",
       "    .dataframe tbody tr th:only-of-type {\n",
       "        vertical-align: middle;\n",
       "    }\n",
       "\n",
       "    .dataframe tbody tr th {\n",
       "        vertical-align: top;\n",
       "    }\n",
       "\n",
       "    .dataframe thead th {\n",
       "        text-align: right;\n",
       "    }\n",
       "</style>\n",
       "<table border=\"1\" class=\"dataframe\">\n",
       "  <thead>\n",
       "    <tr style=\"text-align: right;\">\n",
       "      <th></th>\n",
       "      <th>Updated On</th>\n",
       "      <th>State</th>\n",
       "      <th>Total Doses Administered</th>\n",
       "      <th>Sessions</th>\n",
       "      <th>Sites</th>\n",
       "      <th>First Dose Administered</th>\n",
       "      <th>Second Dose Administered</th>\n",
       "      <th>Male (Doses Administered)</th>\n",
       "      <th>Female (Doses Administered)</th>\n",
       "      <th>Transgender (Doses Administered)</th>\n",
       "      <th>...</th>\n",
       "      <th>18-44 Years (Doses Administered)</th>\n",
       "      <th>45-60 Years (Doses Administered)</th>\n",
       "      <th>60+ Years (Doses Administered)</th>\n",
       "      <th>18-44 Years(Individuals Vaccinated)</th>\n",
       "      <th>45-60 Years(Individuals Vaccinated)</th>\n",
       "      <th>60+ Years(Individuals Vaccinated)</th>\n",
       "      <th>Male(Individuals Vaccinated)</th>\n",
       "      <th>Female(Individuals Vaccinated)</th>\n",
       "      <th>Transgender(Individuals Vaccinated)</th>\n",
       "      <th>Total Individuals Vaccinated</th>\n",
       "    </tr>\n",
       "  </thead>\n",
       "  <tbody>\n",
       "    <tr>\n",
       "      <th>0</th>\n",
       "      <td>16/01/2021</td>\n",
       "      <td>India</td>\n",
       "      <td>48276.0</td>\n",
       "      <td>3455.0</td>\n",
       "      <td>2957.0</td>\n",
       "      <td>48276.0</td>\n",
       "      <td>0.0</td>\n",
       "      <td>NaN</td>\n",
       "      <td>NaN</td>\n",
       "      <td>NaN</td>\n",
       "      <td>...</td>\n",
       "      <td>NaN</td>\n",
       "      <td>NaN</td>\n",
       "      <td>NaN</td>\n",
       "      <td>NaN</td>\n",
       "      <td>NaN</td>\n",
       "      <td>NaN</td>\n",
       "      <td>23757.0</td>\n",
       "      <td>24517.0</td>\n",
       "      <td>2.0</td>\n",
       "      <td>48276.0</td>\n",
       "    </tr>\n",
       "    <tr>\n",
       "      <th>1</th>\n",
       "      <td>17/01/2021</td>\n",
       "      <td>India</td>\n",
       "      <td>58604.0</td>\n",
       "      <td>8532.0</td>\n",
       "      <td>4954.0</td>\n",
       "      <td>58604.0</td>\n",
       "      <td>0.0</td>\n",
       "      <td>NaN</td>\n",
       "      <td>NaN</td>\n",
       "      <td>NaN</td>\n",
       "      <td>...</td>\n",
       "      <td>NaN</td>\n",
       "      <td>NaN</td>\n",
       "      <td>NaN</td>\n",
       "      <td>NaN</td>\n",
       "      <td>NaN</td>\n",
       "      <td>NaN</td>\n",
       "      <td>27348.0</td>\n",
       "      <td>31252.0</td>\n",
       "      <td>4.0</td>\n",
       "      <td>58604.0</td>\n",
       "    </tr>\n",
       "    <tr>\n",
       "      <th>2</th>\n",
       "      <td>18/01/2021</td>\n",
       "      <td>India</td>\n",
       "      <td>99449.0</td>\n",
       "      <td>13611.0</td>\n",
       "      <td>6583.0</td>\n",
       "      <td>99449.0</td>\n",
       "      <td>0.0</td>\n",
       "      <td>NaN</td>\n",
       "      <td>NaN</td>\n",
       "      <td>NaN</td>\n",
       "      <td>...</td>\n",
       "      <td>NaN</td>\n",
       "      <td>NaN</td>\n",
       "      <td>NaN</td>\n",
       "      <td>NaN</td>\n",
       "      <td>NaN</td>\n",
       "      <td>NaN</td>\n",
       "      <td>41361.0</td>\n",
       "      <td>58083.0</td>\n",
       "      <td>5.0</td>\n",
       "      <td>99449.0</td>\n",
       "    </tr>\n",
       "    <tr>\n",
       "      <th>3</th>\n",
       "      <td>19/01/2021</td>\n",
       "      <td>India</td>\n",
       "      <td>195525.0</td>\n",
       "      <td>17855.0</td>\n",
       "      <td>7951.0</td>\n",
       "      <td>195525.0</td>\n",
       "      <td>0.0</td>\n",
       "      <td>NaN</td>\n",
       "      <td>NaN</td>\n",
       "      <td>NaN</td>\n",
       "      <td>...</td>\n",
       "      <td>NaN</td>\n",
       "      <td>NaN</td>\n",
       "      <td>NaN</td>\n",
       "      <td>NaN</td>\n",
       "      <td>NaN</td>\n",
       "      <td>NaN</td>\n",
       "      <td>81901.0</td>\n",
       "      <td>113613.0</td>\n",
       "      <td>11.0</td>\n",
       "      <td>195525.0</td>\n",
       "    </tr>\n",
       "    <tr>\n",
       "      <th>4</th>\n",
       "      <td>20/01/2021</td>\n",
       "      <td>India</td>\n",
       "      <td>251280.0</td>\n",
       "      <td>25472.0</td>\n",
       "      <td>10504.0</td>\n",
       "      <td>251280.0</td>\n",
       "      <td>0.0</td>\n",
       "      <td>NaN</td>\n",
       "      <td>NaN</td>\n",
       "      <td>NaN</td>\n",
       "      <td>...</td>\n",
       "      <td>NaN</td>\n",
       "      <td>NaN</td>\n",
       "      <td>NaN</td>\n",
       "      <td>NaN</td>\n",
       "      <td>NaN</td>\n",
       "      <td>NaN</td>\n",
       "      <td>98111.0</td>\n",
       "      <td>153145.0</td>\n",
       "      <td>24.0</td>\n",
       "      <td>251280.0</td>\n",
       "    </tr>\n",
       "    <tr>\n",
       "      <th>5</th>\n",
       "      <td>21/01/2021</td>\n",
       "      <td>India</td>\n",
       "      <td>365965.0</td>\n",
       "      <td>32226.0</td>\n",
       "      <td>12600.0</td>\n",
       "      <td>365965.0</td>\n",
       "      <td>0.0</td>\n",
       "      <td>NaN</td>\n",
       "      <td>NaN</td>\n",
       "      <td>NaN</td>\n",
       "      <td>...</td>\n",
       "      <td>NaN</td>\n",
       "      <td>NaN</td>\n",
       "      <td>NaN</td>\n",
       "      <td>NaN</td>\n",
       "      <td>NaN</td>\n",
       "      <td>NaN</td>\n",
       "      <td>132784.0</td>\n",
       "      <td>233143.0</td>\n",
       "      <td>38.0</td>\n",
       "      <td>365965.0</td>\n",
       "    </tr>\n",
       "    <tr>\n",
       "      <th>6</th>\n",
       "      <td>22/01/2021</td>\n",
       "      <td>India</td>\n",
       "      <td>549381.0</td>\n",
       "      <td>36988.0</td>\n",
       "      <td>14115.0</td>\n",
       "      <td>549381.0</td>\n",
       "      <td>0.0</td>\n",
       "      <td>NaN</td>\n",
       "      <td>NaN</td>\n",
       "      <td>NaN</td>\n",
       "      <td>...</td>\n",
       "      <td>NaN</td>\n",
       "      <td>NaN</td>\n",
       "      <td>NaN</td>\n",
       "      <td>NaN</td>\n",
       "      <td>NaN</td>\n",
       "      <td>NaN</td>\n",
       "      <td>193899.0</td>\n",
       "      <td>355402.0</td>\n",
       "      <td>80.0</td>\n",
       "      <td>549381.0</td>\n",
       "    </tr>\n",
       "    <tr>\n",
       "      <th>7</th>\n",
       "      <td>23/01/2021</td>\n",
       "      <td>India</td>\n",
       "      <td>759008.0</td>\n",
       "      <td>43076.0</td>\n",
       "      <td>15605.0</td>\n",
       "      <td>759008.0</td>\n",
       "      <td>0.0</td>\n",
       "      <td>NaN</td>\n",
       "      <td>NaN</td>\n",
       "      <td>NaN</td>\n",
       "      <td>...</td>\n",
       "      <td>NaN</td>\n",
       "      <td>NaN</td>\n",
       "      <td>NaN</td>\n",
       "      <td>NaN</td>\n",
       "      <td>NaN</td>\n",
       "      <td>NaN</td>\n",
       "      <td>267856.0</td>\n",
       "      <td>491049.0</td>\n",
       "      <td>103.0</td>\n",
       "      <td>759008.0</td>\n",
       "    </tr>\n",
       "    <tr>\n",
       "      <th>8</th>\n",
       "      <td>24/01/2021</td>\n",
       "      <td>India</td>\n",
       "      <td>835058.0</td>\n",
       "      <td>49851.0</td>\n",
       "      <td>18111.0</td>\n",
       "      <td>835058.0</td>\n",
       "      <td>0.0</td>\n",
       "      <td>NaN</td>\n",
       "      <td>NaN</td>\n",
       "      <td>NaN</td>\n",
       "      <td>...</td>\n",
       "      <td>NaN</td>\n",
       "      <td>NaN</td>\n",
       "      <td>NaN</td>\n",
       "      <td>NaN</td>\n",
       "      <td>NaN</td>\n",
       "      <td>NaN</td>\n",
       "      <td>296283.0</td>\n",
       "      <td>538647.0</td>\n",
       "      <td>128.0</td>\n",
       "      <td>835058.0</td>\n",
       "    </tr>\n",
       "    <tr>\n",
       "      <th>9</th>\n",
       "      <td>25/01/2021</td>\n",
       "      <td>India</td>\n",
       "      <td>1277104.0</td>\n",
       "      <td>55151.0</td>\n",
       "      <td>19682.0</td>\n",
       "      <td>1277104.0</td>\n",
       "      <td>0.0</td>\n",
       "      <td>NaN</td>\n",
       "      <td>NaN</td>\n",
       "      <td>NaN</td>\n",
       "      <td>...</td>\n",
       "      <td>NaN</td>\n",
       "      <td>NaN</td>\n",
       "      <td>NaN</td>\n",
       "      <td>NaN</td>\n",
       "      <td>NaN</td>\n",
       "      <td>NaN</td>\n",
       "      <td>444137.0</td>\n",
       "      <td>832766.0</td>\n",
       "      <td>201.0</td>\n",
       "      <td>1277104.0</td>\n",
       "    </tr>\n",
       "  </tbody>\n",
       "</table>\n",
       "<p>10 rows × 24 columns</p>\n",
       "</div>"
      ],
      "text/plain": [
       "   Updated On  State  Total Doses Administered  Sessions   Sites   \\\n",
       "0  16/01/2021  India                   48276.0    3455.0   2957.0   \n",
       "1  17/01/2021  India                   58604.0    8532.0   4954.0   \n",
       "2  18/01/2021  India                   99449.0   13611.0   6583.0   \n",
       "3  19/01/2021  India                  195525.0   17855.0   7951.0   \n",
       "4  20/01/2021  India                  251280.0   25472.0  10504.0   \n",
       "5  21/01/2021  India                  365965.0   32226.0  12600.0   \n",
       "6  22/01/2021  India                  549381.0   36988.0  14115.0   \n",
       "7  23/01/2021  India                  759008.0   43076.0  15605.0   \n",
       "8  24/01/2021  India                  835058.0   49851.0  18111.0   \n",
       "9  25/01/2021  India                 1277104.0   55151.0  19682.0   \n",
       "\n",
       "   First Dose Administered  Second Dose Administered  \\\n",
       "0                  48276.0                       0.0   \n",
       "1                  58604.0                       0.0   \n",
       "2                  99449.0                       0.0   \n",
       "3                 195525.0                       0.0   \n",
       "4                 251280.0                       0.0   \n",
       "5                 365965.0                       0.0   \n",
       "6                 549381.0                       0.0   \n",
       "7                 759008.0                       0.0   \n",
       "8                 835058.0                       0.0   \n",
       "9                1277104.0                       0.0   \n",
       "\n",
       "   Male (Doses Administered)  Female (Doses Administered)  \\\n",
       "0                        NaN                          NaN   \n",
       "1                        NaN                          NaN   \n",
       "2                        NaN                          NaN   \n",
       "3                        NaN                          NaN   \n",
       "4                        NaN                          NaN   \n",
       "5                        NaN                          NaN   \n",
       "6                        NaN                          NaN   \n",
       "7                        NaN                          NaN   \n",
       "8                        NaN                          NaN   \n",
       "9                        NaN                          NaN   \n",
       "\n",
       "   Transgender (Doses Administered)  ...  18-44 Years (Doses Administered)  \\\n",
       "0                               NaN  ...                               NaN   \n",
       "1                               NaN  ...                               NaN   \n",
       "2                               NaN  ...                               NaN   \n",
       "3                               NaN  ...                               NaN   \n",
       "4                               NaN  ...                               NaN   \n",
       "5                               NaN  ...                               NaN   \n",
       "6                               NaN  ...                               NaN   \n",
       "7                               NaN  ...                               NaN   \n",
       "8                               NaN  ...                               NaN   \n",
       "9                               NaN  ...                               NaN   \n",
       "\n",
       "   45-60 Years (Doses Administered)  60+ Years (Doses Administered)  \\\n",
       "0                               NaN                             NaN   \n",
       "1                               NaN                             NaN   \n",
       "2                               NaN                             NaN   \n",
       "3                               NaN                             NaN   \n",
       "4                               NaN                             NaN   \n",
       "5                               NaN                             NaN   \n",
       "6                               NaN                             NaN   \n",
       "7                               NaN                             NaN   \n",
       "8                               NaN                             NaN   \n",
       "9                               NaN                             NaN   \n",
       "\n",
       "   18-44 Years(Individuals Vaccinated)  45-60 Years(Individuals Vaccinated)  \\\n",
       "0                                  NaN                                  NaN   \n",
       "1                                  NaN                                  NaN   \n",
       "2                                  NaN                                  NaN   \n",
       "3                                  NaN                                  NaN   \n",
       "4                                  NaN                                  NaN   \n",
       "5                                  NaN                                  NaN   \n",
       "6                                  NaN                                  NaN   \n",
       "7                                  NaN                                  NaN   \n",
       "8                                  NaN                                  NaN   \n",
       "9                                  NaN                                  NaN   \n",
       "\n",
       "   60+ Years(Individuals Vaccinated)  Male(Individuals Vaccinated)  \\\n",
       "0                                NaN                       23757.0   \n",
       "1                                NaN                       27348.0   \n",
       "2                                NaN                       41361.0   \n",
       "3                                NaN                       81901.0   \n",
       "4                                NaN                       98111.0   \n",
       "5                                NaN                      132784.0   \n",
       "6                                NaN                      193899.0   \n",
       "7                                NaN                      267856.0   \n",
       "8                                NaN                      296283.0   \n",
       "9                                NaN                      444137.0   \n",
       "\n",
       "   Female(Individuals Vaccinated)  Transgender(Individuals Vaccinated)  \\\n",
       "0                         24517.0                                  2.0   \n",
       "1                         31252.0                                  4.0   \n",
       "2                         58083.0                                  5.0   \n",
       "3                        113613.0                                 11.0   \n",
       "4                        153145.0                                 24.0   \n",
       "5                        233143.0                                 38.0   \n",
       "6                        355402.0                                 80.0   \n",
       "7                        491049.0                                103.0   \n",
       "8                        538647.0                                128.0   \n",
       "9                        832766.0                                201.0   \n",
       "\n",
       "   Total Individuals Vaccinated  \n",
       "0                       48276.0  \n",
       "1                       58604.0  \n",
       "2                       99449.0  \n",
       "3                      195525.0  \n",
       "4                      251280.0  \n",
       "5                      365965.0  \n",
       "6                      549381.0  \n",
       "7                      759008.0  \n",
       "8                      835058.0  \n",
       "9                     1277104.0  \n",
       "\n",
       "[10 rows x 24 columns]"
      ]
     },
     "execution_count": 8,
     "metadata": {},
     "output_type": "execute_result"
    }
   ],
   "source": [
    "vaccine_df.head(10)"
   ]
  },
  {
   "cell_type": "code",
   "execution_count": 9,
   "metadata": {},
   "outputs": [],
   "source": [
    "# Drop the columns that are not required\n",
    "covid_df.drop(['Sno', 'Time', 'ConfirmedIndianNational', 'ConfirmedForeignNational'], axis=1, inplace=True) "
   ]
  },
  {
   "cell_type": "code",
   "execution_count": 14,
   "metadata": {},
   "outputs": [
    {
     "data": {
      "text/html": [
       "<div>\n",
       "<style scoped>\n",
       "    .dataframe tbody tr th:only-of-type {\n",
       "        vertical-align: middle;\n",
       "    }\n",
       "\n",
       "    .dataframe tbody tr th {\n",
       "        vertical-align: top;\n",
       "    }\n",
       "\n",
       "    .dataframe thead th {\n",
       "        text-align: right;\n",
       "    }\n",
       "</style>\n",
       "<table border=\"1\" class=\"dataframe\">\n",
       "  <thead>\n",
       "    <tr style=\"text-align: right;\">\n",
       "      <th></th>\n",
       "      <th>Date</th>\n",
       "      <th>State/UnionTerritory</th>\n",
       "      <th>Cured</th>\n",
       "      <th>Deaths</th>\n",
       "      <th>Confirmed</th>\n",
       "    </tr>\n",
       "  </thead>\n",
       "  <tbody>\n",
       "    <tr>\n",
       "      <th>0</th>\n",
       "      <td>2020-01-30</td>\n",
       "      <td>Kerala</td>\n",
       "      <td>0.0</td>\n",
       "      <td>0.0</td>\n",
       "      <td>1.0</td>\n",
       "    </tr>\n",
       "    <tr>\n",
       "      <th>1</th>\n",
       "      <td>2020-01-31</td>\n",
       "      <td>Kerala</td>\n",
       "      <td>0.0</td>\n",
       "      <td>0.0</td>\n",
       "      <td>1.0</td>\n",
       "    </tr>\n",
       "    <tr>\n",
       "      <th>2</th>\n",
       "      <td>2020-02-01</td>\n",
       "      <td>Kerala</td>\n",
       "      <td>0.0</td>\n",
       "      <td>0.0</td>\n",
       "      <td>2.0</td>\n",
       "    </tr>\n",
       "    <tr>\n",
       "      <th>3</th>\n",
       "      <td>2020-02-02</td>\n",
       "      <td>Kerala</td>\n",
       "      <td>0.0</td>\n",
       "      <td>0.0</td>\n",
       "      <td>3.0</td>\n",
       "    </tr>\n",
       "    <tr>\n",
       "      <th>4</th>\n",
       "      <td>2020-02-03</td>\n",
       "      <td>Kerala</td>\n",
       "      <td>0.0</td>\n",
       "      <td>0.0</td>\n",
       "      <td>3.0</td>\n",
       "    </tr>\n",
       "  </tbody>\n",
       "</table>\n",
       "</div>"
      ],
      "text/plain": [
       "        Date State/UnionTerritory  Cured  Deaths  Confirmed\n",
       "0 2020-01-30               Kerala    0.0     0.0        1.0\n",
       "1 2020-01-31               Kerala    0.0     0.0        1.0\n",
       "2 2020-02-01               Kerala    0.0     0.0        2.0\n",
       "3 2020-02-02               Kerala    0.0     0.0        3.0\n",
       "4 2020-02-03               Kerala    0.0     0.0        3.0"
      ]
     },
     "execution_count": 14,
     "metadata": {},
     "output_type": "execute_result"
    }
   ],
   "source": [
    "covid_df.head()"
   ]
  },
  {
   "cell_type": "code",
   "execution_count": 13,
   "metadata": {},
   "outputs": [],
   "source": [
    "covid_df['Date'] = pd.to_datetime(covid_df['Date'], format='%Y-%m-%d')"
   ]
  },
  {
   "cell_type": "code",
   "execution_count": 17,
   "metadata": {},
   "outputs": [
    {
     "data": {
      "text/plain": [
       "Date                    28\n",
       "State/UnionTerritory    28\n",
       "Cured                   28\n",
       "Deaths                  28\n",
       "Confirmed               28\n",
       "Active_cases            28\n",
       "dtype: int64"
      ]
     },
     "execution_count": 17,
     "metadata": {},
     "output_type": "execute_result"
    }
   ],
   "source": [
    "covid_df.isnull().sum()"
   ]
  },
  {
   "cell_type": "code",
   "execution_count": 16,
   "metadata": {},
   "outputs": [
    {
     "data": {
      "text/html": [
       "<div>\n",
       "<style scoped>\n",
       "    .dataframe tbody tr th:only-of-type {\n",
       "        vertical-align: middle;\n",
       "    }\n",
       "\n",
       "    .dataframe tbody tr th {\n",
       "        vertical-align: top;\n",
       "    }\n",
       "\n",
       "    .dataframe thead th {\n",
       "        text-align: right;\n",
       "    }\n",
       "</style>\n",
       "<table border=\"1\" class=\"dataframe\">\n",
       "  <thead>\n",
       "    <tr style=\"text-align: right;\">\n",
       "      <th></th>\n",
       "      <th>Date</th>\n",
       "      <th>State/UnionTerritory</th>\n",
       "      <th>Cured</th>\n",
       "      <th>Deaths</th>\n",
       "      <th>Confirmed</th>\n",
       "      <th>Active_cases</th>\n",
       "    </tr>\n",
       "  </thead>\n",
       "  <tbody>\n",
       "    <tr>\n",
       "      <th>0</th>\n",
       "      <td>2020-01-30</td>\n",
       "      <td>Kerala</td>\n",
       "      <td>0.0</td>\n",
       "      <td>0.0</td>\n",
       "      <td>1.0</td>\n",
       "      <td>1.0</td>\n",
       "    </tr>\n",
       "    <tr>\n",
       "      <th>1</th>\n",
       "      <td>2020-01-31</td>\n",
       "      <td>Kerala</td>\n",
       "      <td>0.0</td>\n",
       "      <td>0.0</td>\n",
       "      <td>1.0</td>\n",
       "      <td>1.0</td>\n",
       "    </tr>\n",
       "    <tr>\n",
       "      <th>2</th>\n",
       "      <td>2020-02-01</td>\n",
       "      <td>Kerala</td>\n",
       "      <td>0.0</td>\n",
       "      <td>0.0</td>\n",
       "      <td>2.0</td>\n",
       "      <td>2.0</td>\n",
       "    </tr>\n",
       "    <tr>\n",
       "      <th>3</th>\n",
       "      <td>2020-02-02</td>\n",
       "      <td>Kerala</td>\n",
       "      <td>0.0</td>\n",
       "      <td>0.0</td>\n",
       "      <td>3.0</td>\n",
       "      <td>3.0</td>\n",
       "    </tr>\n",
       "    <tr>\n",
       "      <th>4</th>\n",
       "      <td>2020-02-03</td>\n",
       "      <td>Kerala</td>\n",
       "      <td>0.0</td>\n",
       "      <td>0.0</td>\n",
       "      <td>3.0</td>\n",
       "      <td>3.0</td>\n",
       "    </tr>\n",
       "  </tbody>\n",
       "</table>\n",
       "</div>"
      ],
      "text/plain": [
       "        Date State/UnionTerritory  Cured  Deaths  Confirmed  Active_cases\n",
       "0 2020-01-30               Kerala    0.0     0.0        1.0           1.0\n",
       "1 2020-01-31               Kerala    0.0     0.0        1.0           1.0\n",
       "2 2020-02-01               Kerala    0.0     0.0        2.0           2.0\n",
       "3 2020-02-02               Kerala    0.0     0.0        3.0           3.0\n",
       "4 2020-02-03               Kerala    0.0     0.0        3.0           3.0"
      ]
     },
     "execution_count": 16,
     "metadata": {},
     "output_type": "execute_result"
    }
   ],
   "source": [
    "# Active cases \n",
    "covid_df['Active_cases'] = covid_df['Confirmed'] - (covid_df['Cured'] + covid_df['Deaths'])\n",
    "covid_df.head()\n"
   ]
  },
  {
   "cell_type": "code",
   "execution_count": 18,
   "metadata": {},
   "outputs": [],
   "source": [
    "statewise = pd.pivot_table(covid_df,\n",
    "                           values=['Confirmed', 'Deaths', 'Cured', 'Active_cases'], \n",
    "                           index='State/UnionTerritory',\n",
    "                           aggfunc='max')"
   ]
  },
  {
   "cell_type": "code",
   "execution_count": 19,
   "metadata": {},
   "outputs": [],
   "source": [
    "statewise['Recovery Rate'] = statewise['Cured'] * 100 / statewise['Confirmed']"
   ]
  },
  {
   "cell_type": "code",
   "execution_count": 20,
   "metadata": {},
   "outputs": [],
   "source": [
    "statewise['Mortality Rate'] = statewise['Deaths']  * 100 / statewise['Confirmed']"
   ]
  },
  {
   "cell_type": "code",
   "execution_count": 21,
   "metadata": {},
   "outputs": [],
   "source": [
    "statewise = statewise.sort_values(by='Confirmed', ascending=False)"
   ]
  },
  {
   "cell_type": "code",
   "execution_count": 22,
   "metadata": {},
   "outputs": [
    {
     "data": {
      "text/html": [
       "<style type=\"text/css\">\n",
       "#T_0db96_row0_col0, #T_0db96_row0_col1, #T_0db96_row0_col2, #T_0db96_row0_col3, #T_0db96_row16_col5, #T_0db96_row36_col4 {\n",
       "  background-color: #ffffff;\n",
       "  color: #000000;\n",
       "}\n",
       "#T_0db96_row0_col4, #T_0db96_row4_col4, #T_0db96_row15_col4 {\n",
       "  background-color: #e9f8f2;\n",
       "  color: #000000;\n",
       "}\n",
       "#T_0db96_row0_col5 {\n",
       "  background-color: #d487b2;\n",
       "  color: #f1f1f1;\n",
       "}\n",
       "#T_0db96_row1_col0 {\n",
       "  background-color: #c7e3f1;\n",
       "  color: #000000;\n",
       "}\n",
       "#T_0db96_row1_col1, #T_0db96_row31_col5 {\n",
       "  background-color: #637a2f;\n",
       "  color: #f1f1f1;\n",
       "}\n",
       "#T_0db96_row1_col2 {\n",
       "  background-color: #2d7038;\n",
       "  color: #f1f1f1;\n",
       "}\n",
       "#T_0db96_row1_col3, #T_0db96_row5_col1, #T_0db96_row5_col5, #T_0db96_row6_col2 {\n",
       "  background-color: #185b48;\n",
       "  color: #f1f1f1;\n",
       "}\n",
       "#T_0db96_row1_col4 {\n",
       "  background-color: #c4bdf1;\n",
       "  color: #000000;\n",
       "}\n",
       "#T_0db96_row1_col5 {\n",
       "  background-color: #607a2f;\n",
       "  color: #f1f1f1;\n",
       "}\n",
       "#T_0db96_row2_col0 {\n",
       "  background-color: #d486af;\n",
       "  color: #f1f1f1;\n",
       "}\n",
       "#T_0db96_row2_col1, #T_0db96_row12_col5 {\n",
       "  background-color: #577a2f;\n",
       "  color: #f1f1f1;\n",
       "}\n",
       "#T_0db96_row2_col2 {\n",
       "  background-color: #417731;\n",
       "  color: #f1f1f1;\n",
       "}\n",
       "#T_0db96_row2_col3, #T_0db96_row17_col1 {\n",
       "  background-color: #180f25;\n",
       "  color: #f1f1f1;\n",
       "}\n",
       "#T_0db96_row2_col4 {\n",
       "  background-color: #cce9ef;\n",
       "  color: #000000;\n",
       "}\n",
       "#T_0db96_row2_col5, #T_0db96_row13_col1 {\n",
       "  background-color: #1b1c3a;\n",
       "  color: #f1f1f1;\n",
       "}\n",
       "#T_0db96_row3_col0 {\n",
       "  background-color: #317236;\n",
       "  color: #f1f1f1;\n",
       "}\n",
       "#T_0db96_row3_col1 {\n",
       "  background-color: #206840;\n",
       "  color: #f1f1f1;\n",
       "}\n",
       "#T_0db96_row3_col2 {\n",
       "  background-color: #1a6046;\n",
       "  color: #f1f1f1;\n",
       "}\n",
       "#T_0db96_row3_col3 {\n",
       "  background-color: #15464e;\n",
       "  color: #f1f1f1;\n",
       "}\n",
       "#T_0db96_row3_col4 {\n",
       "  background-color: #cdeaef;\n",
       "  color: #000000;\n",
       "}\n",
       "#T_0db96_row3_col5, #T_0db96_row4_col5 {\n",
       "  background-color: #817a37;\n",
       "  color: #f1f1f1;\n",
       "}\n",
       "#T_0db96_row4_col0 {\n",
       "  background-color: #757b33;\n",
       "  color: #f1f1f1;\n",
       "}\n",
       "#T_0db96_row4_col1, #T_0db96_row4_col2, #T_0db96_row5_col0, #T_0db96_row9_col0 {\n",
       "  background-color: #1f6741;\n",
       "  color: #f1f1f1;\n",
       "}\n",
       "#T_0db96_row4_col3, #T_0db96_row7_col1, #T_0db96_row17_col5 {\n",
       "  background-color: #15444f;\n",
       "  color: #f1f1f1;\n",
       "}\n",
       "#T_0db96_row5_col2 {\n",
       "  background-color: #16554b;\n",
       "  color: #f1f1f1;\n",
       "}\n",
       "#T_0db96_row5_col3, #T_0db96_row14_col1, #T_0db96_row15_col0, #T_0db96_row16_col0, #T_0db96_row20_col0 {\n",
       "  background-color: #1b1a36;\n",
       "  color: #f1f1f1;\n",
       "}\n",
       "#T_0db96_row5_col4, #T_0db96_row26_col4 {\n",
       "  background-color: #d0ecef;\n",
       "  color: #000000;\n",
       "}\n",
       "#T_0db96_row6_col0, #T_0db96_row9_col2, #T_0db96_row16_col3 {\n",
       "  background-color: #1a2543;\n",
       "  color: #f1f1f1;\n",
       "}\n",
       "#T_0db96_row6_col1 {\n",
       "  background-color: #16574b;\n",
       "  color: #f1f1f1;\n",
       "}\n",
       "#T_0db96_row6_col3 {\n",
       "  background-color: #17584a;\n",
       "  color: #f1f1f1;\n",
       "}\n",
       "#T_0db96_row6_col4 {\n",
       "  background-color: #fdfefe;\n",
       "  color: #000000;\n",
       "}\n",
       "#T_0db96_row6_col5 {\n",
       "  background-color: #d48cbe;\n",
       "  color: #f1f1f1;\n",
       "}\n",
       "#T_0db96_row7_col0 {\n",
       "  background-color: #17374d;\n",
       "  color: #f1f1f1;\n",
       "}\n",
       "#T_0db96_row7_col2 {\n",
       "  background-color: #16404e;\n",
       "  color: #f1f1f1;\n",
       "}\n",
       "#T_0db96_row7_col3, #T_0db96_row9_col1, #T_0db96_row29_col5 {\n",
       "  background-color: #192c47;\n",
       "  color: #f1f1f1;\n",
       "}\n",
       "#T_0db96_row7_col4 {\n",
       "  background-color: #dbf3ef;\n",
       "  color: #000000;\n",
       "}\n",
       "#T_0db96_row7_col5 {\n",
       "  background-color: #937a40;\n",
       "  color: #f1f1f1;\n",
       "}\n",
       "#T_0db96_row8_col0 {\n",
       "  background-color: #17364c;\n",
       "  color: #f1f1f1;\n",
       "}\n",
       "#T_0db96_row8_col1 {\n",
       "  background-color: #182f49;\n",
       "  color: #f1f1f1;\n",
       "}\n",
       "#T_0db96_row8_col2, #T_0db96_row12_col0, #T_0db96_row13_col0 {\n",
       "  background-color: #192d48;\n",
       "  color: #f1f1f1;\n",
       "}\n",
       "#T_0db96_row8_col3, #T_0db96_row10_col1 {\n",
       "  background-color: #1a2441;\n",
       "  color: #f1f1f1;\n",
       "}\n",
       "#T_0db96_row8_col4, #T_0db96_row19_col4, #T_0db96_row29_col4 {\n",
       "  background-color: #e0f5f0;\n",
       "  color: #000000;\n",
       "}\n",
       "#T_0db96_row8_col5 {\n",
       "  background-color: #b97964;\n",
       "  color: #f1f1f1;\n",
       "}\n",
       "#T_0db96_row9_col3, #T_0db96_row11_col3, #T_0db96_row12_col3 {\n",
       "  background-color: #181027;\n",
       "  color: #f1f1f1;\n",
       "}\n",
       "#T_0db96_row9_col4 {\n",
       "  background-color: #c5dff2;\n",
       "  color: #000000;\n",
       "}\n",
       "#T_0db96_row9_col5 {\n",
       "  background-color: #2b6f39;\n",
       "  color: #f1f1f1;\n",
       "}\n",
       "#T_0db96_row10_col0 {\n",
       "  background-color: #15424e;\n",
       "  color: #f1f1f1;\n",
       "}\n",
       "#T_0db96_row10_col2, #T_0db96_row11_col1, #T_0db96_row14_col0 {\n",
       "  background-color: #1a213e;\n",
       "  color: #f1f1f1;\n",
       "}\n",
       "#T_0db96_row10_col3, #T_0db96_row17_col0 {\n",
       "  background-color: #1a1835;\n",
       "  color: #f1f1f1;\n",
       "}\n",
       "#T_0db96_row10_col4 {\n",
       "  background-color: #d4efef;\n",
       "  color: #000000;\n",
       "}\n",
       "#T_0db96_row10_col5 {\n",
       "  background-color: #a1794a;\n",
       "  color: #f1f1f1;\n",
       "}\n",
       "#T_0db96_row11_col0 {\n",
       "  background-color: #192a46;\n",
       "  color: #f1f1f1;\n",
       "}\n",
       "#T_0db96_row11_col2, #T_0db96_row12_col1, #T_0db96_row35_col5 {\n",
       "  background-color: #1b1f3d;\n",
       "  color: #f1f1f1;\n",
       "}\n",
       "#T_0db96_row11_col4 {\n",
       "  background-color: #dcf3ef;\n",
       "  color: #000000;\n",
       "}\n",
       "#T_0db96_row11_col5 {\n",
       "  background-color: #54792f;\n",
       "  color: #f1f1f1;\n",
       "}\n",
       "#T_0db96_row12_col2 {\n",
       "  background-color: #1b1e3b;\n",
       "  color: #f1f1f1;\n",
       "}\n",
       "#T_0db96_row12_col4 {\n",
       "  background-color: #def4ef;\n",
       "  color: #000000;\n",
       "}\n",
       "#T_0db96_row13_col2, #T_0db96_row37_col5 {\n",
       "  background-color: #1b1b38;\n",
       "  color: #f1f1f1;\n",
       "}\n",
       "#T_0db96_row13_col3, #T_0db96_row23_col0 {\n",
       "  background-color: #110815;\n",
       "  color: #f1f1f1;\n",
       "}\n",
       "#T_0db96_row13_col4, #T_0db96_row31_col4 {\n",
       "  background-color: #e3f6f0;\n",
       "  color: #000000;\n",
       "}\n",
       "#T_0db96_row13_col5 {\n",
       "  background-color: #16534c;\n",
       "  color: #f1f1f1;\n",
       "}\n",
       "#T_0db96_row14_col2 {\n",
       "  background-color: #1a1733;\n",
       "  color: #f1f1f1;\n",
       "}\n",
       "#T_0db96_row14_col3, #T_0db96_row17_col3, #T_0db96_row18_col3, #T_0db96_row22_col1, #T_0db96_row22_col3 {\n",
       "  background-color: #0b040c;\n",
       "  color: #f1f1f1;\n",
       "}\n",
       "#T_0db96_row14_col4 {\n",
       "  background-color: #cfebef;\n",
       "  color: #000000;\n",
       "}\n",
       "#T_0db96_row14_col5 {\n",
       "  background-color: #192845;\n",
       "  color: #f1f1f1;\n",
       "}\n",
       "#T_0db96_row15_col1, #T_0db96_row15_col2 {\n",
       "  background-color: #1a142f;\n",
       "  color: #f1f1f1;\n",
       "}\n",
       "#T_0db96_row15_col3 {\n",
       "  background-color: #0e050f;\n",
       "  color: #f1f1f1;\n",
       "}\n",
       "#T_0db96_row15_col5 {\n",
       "  background-color: #154b4e;\n",
       "  color: #f1f1f1;\n",
       "}\n",
       "#T_0db96_row16_col1 {\n",
       "  background-color: #19132d;\n",
       "  color: #f1f1f1;\n",
       "}\n",
       "#T_0db96_row16_col2, #T_0db96_row19_col0 {\n",
       "  background-color: #191129;\n",
       "  color: #f1f1f1;\n",
       "}\n",
       "#T_0db96_row16_col4 {\n",
       "  background-color: #cbe8f0;\n",
       "  color: #000000;\n",
       "}\n",
       "#T_0db96_row17_col2 {\n",
       "  background-color: #160d21;\n",
       "  color: #f1f1f1;\n",
       "}\n",
       "#T_0db96_row17_col4 {\n",
       "  background-color: #c6e1f1;\n",
       "  color: #000000;\n",
       "}\n",
       "#T_0db96_row18_col0 {\n",
       "  background-color: #160c1f;\n",
       "  color: #f1f1f1;\n",
       "}\n",
       "#T_0db96_row18_col1 {\n",
       "  background-color: #150b1d;\n",
       "  color: #f1f1f1;\n",
       "}\n",
       "#T_0db96_row18_col2, #T_0db96_row19_col1, #T_0db96_row20_col3 {\n",
       "  background-color: #140a1b;\n",
       "  color: #f1f1f1;\n",
       "}\n",
       "#T_0db96_row18_col4 {\n",
       "  background-color: #d1edef;\n",
       "  color: #000000;\n",
       "}\n",
       "#T_0db96_row18_col5 {\n",
       "  background-color: #1b6145;\n",
       "  color: #f1f1f1;\n",
       "}\n",
       "#T_0db96_row19_col2, #T_0db96_row19_col3, #T_0db96_row22_col0 {\n",
       "  background-color: #130919;\n",
       "  color: #f1f1f1;\n",
       "}\n",
       "#T_0db96_row19_col5 {\n",
       "  background-color: #cf7e8f;\n",
       "  color: #f1f1f1;\n",
       "}\n",
       "#T_0db96_row20_col1 {\n",
       "  background-color: #120817;\n",
       "  color: #f1f1f1;\n",
       "}\n",
       "#T_0db96_row20_col2, #T_0db96_row21_col1 {\n",
       "  background-color: #100713;\n",
       "  color: #f1f1f1;\n",
       "}\n",
       "#T_0db96_row20_col4 {\n",
       "  background-color: #c5b8ef;\n",
       "  color: #000000;\n",
       "}\n",
       "#T_0db96_row20_col5 {\n",
       "  background-color: #cca6e4;\n",
       "  color: #000000;\n",
       "}\n",
       "#T_0db96_row21_col0 {\n",
       "  background-color: #170e23;\n",
       "  color: #f1f1f1;\n",
       "}\n",
       "#T_0db96_row21_col2, #T_0db96_row21_col3 {\n",
       "  background-color: #0f0611;\n",
       "  color: #f1f1f1;\n",
       "}\n",
       "#T_0db96_row21_col4 {\n",
       "  background-color: #c2d4f3;\n",
       "  color: #000000;\n",
       "}\n",
       "#T_0db96_row21_col5 {\n",
       "  background-color: #bc7967;\n",
       "  color: #f1f1f1;\n",
       "}\n",
       "#T_0db96_row22_col2, #T_0db96_row23_col1, #T_0db96_row23_col3, #T_0db96_row24_col0 {\n",
       "  background-color: #0a030a;\n",
       "  color: #f1f1f1;\n",
       "}\n",
       "#T_0db96_row22_col4 {\n",
       "  background-color: #c1d1f3;\n",
       "  color: #000000;\n",
       "}\n",
       "#T_0db96_row22_col5 {\n",
       "  background-color: #d2809c;\n",
       "  color: #f1f1f1;\n",
       "}\n",
       "#T_0db96_row23_col2 {\n",
       "  background-color: #080308;\n",
       "  color: #f1f1f1;\n",
       "}\n",
       "#T_0db96_row23_col4 {\n",
       "  background-color: #c6e0f1;\n",
       "  color: #000000;\n",
       "}\n",
       "#T_0db96_row23_col5 {\n",
       "  background-color: #d48dc1;\n",
       "  color: #f1f1f1;\n",
       "}\n",
       "#T_0db96_row24_col1, #T_0db96_row33_col5 {\n",
       "  background-color: #070206;\n",
       "  color: #f1f1f1;\n",
       "}\n",
       "#T_0db96_row24_col2, #T_0db96_row24_col3, #T_0db96_row25_col0, #T_0db96_row34_col0 {\n",
       "  background-color: #050205;\n",
       "  color: #f1f1f1;\n",
       "}\n",
       "#T_0db96_row24_col4 {\n",
       "  background-color: #c2d6f3;\n",
       "  color: #000000;\n",
       "}\n",
       "#T_0db96_row24_col5, #T_0db96_row36_col5 {\n",
       "  background-color: #c87b7c;\n",
       "  color: #f1f1f1;\n",
       "}\n",
       "#T_0db96_row25_col1, #T_0db96_row25_col2, #T_0db96_row26_col0, #T_0db96_row26_col1, #T_0db96_row27_col0 {\n",
       "  background-color: #030103;\n",
       "  color: #f1f1f1;\n",
       "}\n",
       "#T_0db96_row25_col3, #T_0db96_row26_col2, #T_0db96_row26_col3, #T_0db96_row27_col1, #T_0db96_row27_col2, #T_0db96_row27_col3, #T_0db96_row28_col0, #T_0db96_row28_col1, #T_0db96_row28_col3, #T_0db96_row29_col0, #T_0db96_row29_col1, #T_0db96_row29_col2, #T_0db96_row30_col0, #T_0db96_row32_col0 {\n",
       "  background-color: #020102;\n",
       "  color: #f1f1f1;\n",
       "}\n",
       "#T_0db96_row25_col4 {\n",
       "  background-color: #d6f0ef;\n",
       "  color: #000000;\n",
       "}\n",
       "#T_0db96_row25_col5 {\n",
       "  background-color: #8d7a3d;\n",
       "  color: #f1f1f1;\n",
       "}\n",
       "#T_0db96_row26_col5 {\n",
       "  background-color: #6f7b31;\n",
       "  color: #f1f1f1;\n",
       "}\n",
       "#T_0db96_row27_col4 {\n",
       "  background-color: #c8e4f0;\n",
       "  color: #000000;\n",
       "}\n",
       "#T_0db96_row27_col5 {\n",
       "  background-color: #d383a6;\n",
       "  color: #f1f1f1;\n",
       "}\n",
       "#T_0db96_row28_col2, #T_0db96_row29_col3, #T_0db96_row30_col1, #T_0db96_row30_col2, #T_0db96_row30_col3, #T_0db96_row31_col0, #T_0db96_row31_col1, #T_0db96_row31_col2, #T_0db96_row31_col3, #T_0db96_row32_col1, #T_0db96_row32_col2, #T_0db96_row32_col3, #T_0db96_row33_col0, #T_0db96_row33_col1, #T_0db96_row33_col2, #T_0db96_row33_col3, #T_0db96_row34_col1, #T_0db96_row34_col2, #T_0db96_row34_col3, #T_0db96_row34_col4, #T_0db96_row34_col5, #T_0db96_row35_col0, #T_0db96_row35_col1, #T_0db96_row35_col2, #T_0db96_row35_col3, #T_0db96_row36_col0, #T_0db96_row36_col1, #T_0db96_row36_col2, #T_0db96_row36_col3, #T_0db96_row37_col0, #T_0db96_row37_col1, #T_0db96_row37_col2, #T_0db96_row37_col3, #T_0db96_row38_col0, #T_0db96_row38_col1, #T_0db96_row38_col2, #T_0db96_row38_col3, #T_0db96_row38_col4, #T_0db96_row38_col5, #T_0db96_row39_col0, #T_0db96_row39_col1, #T_0db96_row39_col2, #T_0db96_row39_col3, #T_0db96_row39_col4, #T_0db96_row39_col5 {\n",
       "  background-color: #000000;\n",
       "  color: #f1f1f1;\n",
       "}\n",
       "#T_0db96_row28_col4 {\n",
       "  background-color: #c1cff3;\n",
       "  color: #000000;\n",
       "}\n",
       "#T_0db96_row28_col5 {\n",
       "  background-color: #ce7d8c;\n",
       "  color: #f1f1f1;\n",
       "}\n",
       "#T_0db96_row30_col4 {\n",
       "  background-color: #c2c6f3;\n",
       "  color: #000000;\n",
       "}\n",
       "#T_0db96_row30_col5 {\n",
       "  background-color: #a4794c;\n",
       "  color: #f1f1f1;\n",
       "}\n",
       "#T_0db96_row32_col4 {\n",
       "  background-color: #c6b6ee;\n",
       "  color: #000000;\n",
       "}\n",
       "#T_0db96_row32_col5 {\n",
       "  background-color: #c6b4ee;\n",
       "  color: #000000;\n",
       "}\n",
       "#T_0db96_row33_col4 {\n",
       "  background-color: #f2fbf6;\n",
       "  color: #000000;\n",
       "}\n",
       "#T_0db96_row35_col4 {\n",
       "  background-color: #c1cdf3;\n",
       "  color: #000000;\n",
       "}\n",
       "#T_0db96_row37_col4 {\n",
       "  background-color: #c2c5f3;\n",
       "  color: #000000;\n",
       "}\n",
       "</style>\n",
       "<table id=\"T_0db96\">\n",
       "  <thead>\n",
       "    <tr>\n",
       "      <th class=\"blank level0\" >&nbsp;</th>\n",
       "      <th id=\"T_0db96_level0_col0\" class=\"col_heading level0 col0\" >Active_cases</th>\n",
       "      <th id=\"T_0db96_level0_col1\" class=\"col_heading level0 col1\" >Confirmed</th>\n",
       "      <th id=\"T_0db96_level0_col2\" class=\"col_heading level0 col2\" >Cured</th>\n",
       "      <th id=\"T_0db96_level0_col3\" class=\"col_heading level0 col3\" >Deaths</th>\n",
       "      <th id=\"T_0db96_level0_col4\" class=\"col_heading level0 col4\" >Recovery Rate</th>\n",
       "      <th id=\"T_0db96_level0_col5\" class=\"col_heading level0 col5\" >Mortality Rate</th>\n",
       "    </tr>\n",
       "    <tr>\n",
       "      <th class=\"index_name level0\" >State/UnionTerritory</th>\n",
       "      <th class=\"blank col0\" >&nbsp;</th>\n",
       "      <th class=\"blank col1\" >&nbsp;</th>\n",
       "      <th class=\"blank col2\" >&nbsp;</th>\n",
       "      <th class=\"blank col3\" >&nbsp;</th>\n",
       "      <th class=\"blank col4\" >&nbsp;</th>\n",
       "      <th class=\"blank col5\" >&nbsp;</th>\n",
       "    </tr>\n",
       "  </thead>\n",
       "  <tbody>\n",
       "    <tr>\n",
       "      <th id=\"T_0db96_level0_row0\" class=\"row_heading level0 row0\" >Maharashtra</th>\n",
       "      <td id=\"T_0db96_row0_col0\" class=\"data row0 col0\" >701614.000000</td>\n",
       "      <td id=\"T_0db96_row0_col1\" class=\"data row0 col1\" >5433506.000000</td>\n",
       "      <td id=\"T_0db96_row0_col2\" class=\"data row0 col2\" >4927480.000000</td>\n",
       "      <td id=\"T_0db96_row0_col3\" class=\"data row0 col3\" >83777.000000</td>\n",
       "      <td id=\"T_0db96_row0_col4\" class=\"data row0 col4\" >90.686934</td>\n",
       "      <td id=\"T_0db96_row0_col5\" class=\"data row0 col5\" >1.541859</td>\n",
       "    </tr>\n",
       "    <tr>\n",
       "      <th id=\"T_0db96_level0_row1\" class=\"row_heading level0 row1\" >Karnataka</th>\n",
       "      <td id=\"T_0db96_row1_col0\" class=\"data row1 col0\" >605515.000000</td>\n",
       "      <td id=\"T_0db96_row1_col1\" class=\"data row1 col1\" >2272374.000000</td>\n",
       "      <td id=\"T_0db96_row1_col2\" class=\"data row1 col2\" >1674487.000000</td>\n",
       "      <td id=\"T_0db96_row1_col3\" class=\"data row1 col3\" >22838.000000</td>\n",
       "      <td id=\"T_0db96_row1_col4\" class=\"data row1 col4\" >73.688882</td>\n",
       "      <td id=\"T_0db96_row1_col5\" class=\"data row1 col5\" >1.005028</td>\n",
       "    </tr>\n",
       "    <tr>\n",
       "      <th id=\"T_0db96_level0_row2\" class=\"row_heading level0 row2\" >Kerala</th>\n",
       "      <td id=\"T_0db96_row2_col0\" class=\"data row2 col0\" >445692.000000</td>\n",
       "      <td id=\"T_0db96_row2_col1\" class=\"data row2 col1\" >2200706.000000</td>\n",
       "      <td id=\"T_0db96_row2_col2\" class=\"data row2 col2\" >1846105.000000</td>\n",
       "      <td id=\"T_0db96_row2_col3\" class=\"data row2 col3\" >6612.000000</td>\n",
       "      <td id=\"T_0db96_row2_col4\" class=\"data row2 col4\" >83.886944</td>\n",
       "      <td id=\"T_0db96_row2_col5\" class=\"data row2 col5\" >0.300449</td>\n",
       "    </tr>\n",
       "    <tr>\n",
       "      <th id=\"T_0db96_level0_row3\" class=\"row_heading level0 row3\" >Tamil Nadu</th>\n",
       "      <td id=\"T_0db96_row3_col0\" class=\"data row3 col0\" >242929.000000</td>\n",
       "      <td id=\"T_0db96_row3_col1\" class=\"data row3 col1\" >1664350.000000</td>\n",
       "      <td id=\"T_0db96_row3_col2\" class=\"data row3 col2\" >1403052.000000</td>\n",
       "      <td id=\"T_0db96_row3_col3\" class=\"data row3 col3\" >18369.000000</td>\n",
       "      <td id=\"T_0db96_row3_col4\" class=\"data row3 col4\" >84.300297</td>\n",
       "      <td id=\"T_0db96_row3_col5\" class=\"data row3 col5\" >1.103674</td>\n",
       "    </tr>\n",
       "    <tr>\n",
       "      <th id=\"T_0db96_level0_row4\" class=\"row_heading level0 row4\" >Uttar Pradesh</th>\n",
       "      <td id=\"T_0db96_row4_col0\" class=\"data row4 col0\" >310783.000000</td>\n",
       "      <td id=\"T_0db96_row4_col1\" class=\"data row4 col1\" >1637663.000000</td>\n",
       "      <td id=\"T_0db96_row4_col2\" class=\"data row4 col2\" >1483249.000000</td>\n",
       "      <td id=\"T_0db96_row4_col3\" class=\"data row4 col3\" >18072.000000</td>\n",
       "      <td id=\"T_0db96_row4_col4\" class=\"data row4 col4\" >90.571076</td>\n",
       "      <td id=\"T_0db96_row4_col5\" class=\"data row4 col5\" >1.103524</td>\n",
       "    </tr>\n",
       "    <tr>\n",
       "      <th id=\"T_0db96_level0_row5\" class=\"row_heading level0 row5\" >Andhra Pradesh</th>\n",
       "      <td id=\"T_0db96_row5_col0\" class=\"data row5 col0\" >211554.000000</td>\n",
       "      <td id=\"T_0db96_row5_col1\" class=\"data row5 col1\" >1475372.000000</td>\n",
       "      <td id=\"T_0db96_row5_col2\" class=\"data row5 col2\" >1254291.000000</td>\n",
       "      <td id=\"T_0db96_row5_col3\" class=\"data row5 col3\" >9580.000000</td>\n",
       "      <td id=\"T_0db96_row5_col4\" class=\"data row5 col4\" >85.015237</td>\n",
       "      <td id=\"T_0db96_row5_col5\" class=\"data row5 col5\" >0.649328</td>\n",
       "    </tr>\n",
       "    <tr>\n",
       "      <th id=\"T_0db96_level0_row6\" class=\"row_heading level0 row6\" >Delhi</th>\n",
       "      <td id=\"T_0db96_row6_col0\" class=\"data row6 col0\" >103424.000000</td>\n",
       "      <td id=\"T_0db96_row6_col1\" class=\"data row6 col1\" >1402873.000000</td>\n",
       "      <td id=\"T_0db96_row6_col2\" class=\"data row6 col2\" >1329899.000000</td>\n",
       "      <td id=\"T_0db96_row6_col3\" class=\"data row6 col3\" >22111.000000</td>\n",
       "      <td id=\"T_0db96_row6_col4\" class=\"data row6 col4\" >94.798246</td>\n",
       "      <td id=\"T_0db96_row6_col5\" class=\"data row6 col5\" >1.576123</td>\n",
       "    </tr>\n",
       "    <tr>\n",
       "      <th id=\"T_0db96_level0_row7\" class=\"row_heading level0 row7\" >West Bengal</th>\n",
       "      <td id=\"T_0db96_row7_col0\" class=\"data row7 col0\" >131948.000000</td>\n",
       "      <td id=\"T_0db96_row7_col1\" class=\"data row7 col1\" >1171861.000000</td>\n",
       "      <td id=\"T_0db96_row7_col2\" class=\"data row7 col2\" >1026492.000000</td>\n",
       "      <td id=\"T_0db96_row7_col3\" class=\"data row7 col3\" >13576.000000</td>\n",
       "      <td id=\"T_0db96_row7_col4\" class=\"data row7 col4\" >87.595030</td>\n",
       "      <td id=\"T_0db96_row7_col5\" class=\"data row7 col5\" >1.158499</td>\n",
       "    </tr>\n",
       "    <tr>\n",
       "      <th id=\"T_0db96_level0_row8\" class=\"row_heading level0 row8\" >Chhattisgarh</th>\n",
       "      <td id=\"T_0db96_row8_col0\" class=\"data row8 col0\" >131245.000000</td>\n",
       "      <td id=\"T_0db96_row8_col1\" class=\"data row8 col1\" >925531.000000</td>\n",
       "      <td id=\"T_0db96_row8_col2\" class=\"data row8 col2\" >823113.000000</td>\n",
       "      <td id=\"T_0db96_row8_col3\" class=\"data row8 col3\" >12036.000000</td>\n",
       "      <td id=\"T_0db96_row8_col4\" class=\"data row8 col4\" >88.934136</td>\n",
       "      <td id=\"T_0db96_row8_col5\" class=\"data row8 col5\" >1.300443</td>\n",
       "    </tr>\n",
       "    <tr>\n",
       "      <th id=\"T_0db96_level0_row9\" class=\"row_heading level0 row9\" >Rajasthan</th>\n",
       "      <td id=\"T_0db96_row9_col0\" class=\"data row9 col0\" >212753.000000</td>\n",
       "      <td id=\"T_0db96_row9_col1\" class=\"data row9 col1\" >879664.000000</td>\n",
       "      <td id=\"T_0db96_row9_col2\" class=\"data row9 col2\" >713129.000000</td>\n",
       "      <td id=\"T_0db96_row9_col3\" class=\"data row9 col3\" >7080.000000</td>\n",
       "      <td id=\"T_0db96_row9_col4\" class=\"data row9 col4\" >81.068340</td>\n",
       "      <td id=\"T_0db96_row9_col5\" class=\"data row9 col5\" >0.804853</td>\n",
       "    </tr>\n",
       "    <tr>\n",
       "      <th id=\"T_0db96_level0_row10\" class=\"row_heading level0 row10\" >Gujarat</th>\n",
       "      <td id=\"T_0db96_row10_col0\" class=\"data row10 col0\" >148297.000000</td>\n",
       "      <td id=\"T_0db96_row10_col1\" class=\"data row10 col1\" >766201.000000</td>\n",
       "      <td id=\"T_0db96_row10_col2\" class=\"data row10 col2\" >660489.000000</td>\n",
       "      <td id=\"T_0db96_row10_col3\" class=\"data row10 col3\" >9269.000000</td>\n",
       "      <td id=\"T_0db96_row10_col4\" class=\"data row10 col4\" >86.203098</td>\n",
       "      <td id=\"T_0db96_row10_col5\" class=\"data row10 col5\" >1.209735</td>\n",
       "    </tr>\n",
       "    <tr>\n",
       "      <th id=\"T_0db96_level0_row11\" class=\"row_heading level0 row11\" >Madhya Pradesh</th>\n",
       "      <td id=\"T_0db96_row11_col0\" class=\"data row11 col0\" >111366.000000</td>\n",
       "      <td id=\"T_0db96_row11_col1\" class=\"data row11 col1\" >742718.000000</td>\n",
       "      <td id=\"T_0db96_row11_col2\" class=\"data row11 col2\" >652612.000000</td>\n",
       "      <td id=\"T_0db96_row11_col3\" class=\"data row11 col3\" >7139.000000</td>\n",
       "      <td id=\"T_0db96_row11_col4\" class=\"data row11 col4\" >87.868074</td>\n",
       "      <td id=\"T_0db96_row11_col5\" class=\"data row11 col5\" >0.961199</td>\n",
       "    </tr>\n",
       "    <tr>\n",
       "      <th id=\"T_0db96_level0_row12\" class=\"row_heading level0 row12\" >Haryana</th>\n",
       "      <td id=\"T_0db96_row12_col0\" class=\"data row12 col0\" >116867.000000</td>\n",
       "      <td id=\"T_0db96_row12_col1\" class=\"data row12 col1\" >709689.000000</td>\n",
       "      <td id=\"T_0db96_row12_col2\" class=\"data row12 col2\" >626852.000000</td>\n",
       "      <td id=\"T_0db96_row12_col3\" class=\"data row12 col3\" >6923.000000</td>\n",
       "      <td id=\"T_0db96_row12_col4\" class=\"data row12 col4\" >88.327704</td>\n",
       "      <td id=\"T_0db96_row12_col5\" class=\"data row12 col5\" >0.975498</td>\n",
       "    </tr>\n",
       "    <tr>\n",
       "      <th id=\"T_0db96_level0_row13\" class=\"row_heading level0 row13\" >Bihar</th>\n",
       "      <td id=\"T_0db96_row13_col0\" class=\"data row13 col0\" >115152.000000</td>\n",
       "      <td id=\"T_0db96_row13_col1\" class=\"data row13 col1\" >664115.000000</td>\n",
       "      <td id=\"T_0db96_row13_col2\" class=\"data row13 col2\" >595377.000000</td>\n",
       "      <td id=\"T_0db96_row13_col3\" class=\"data row13 col3\" >4039.000000</td>\n",
       "      <td id=\"T_0db96_row13_col4\" class=\"data row13 col4\" >89.649684</td>\n",
       "      <td id=\"T_0db96_row13_col5\" class=\"data row13 col5\" >0.608178</td>\n",
       "    </tr>\n",
       "    <tr>\n",
       "      <th id=\"T_0db96_level0_row14\" class=\"row_heading level0 row14\" >Odisha</th>\n",
       "      <td id=\"T_0db96_row14_col0\" class=\"data row14 col0\" >95743.000000</td>\n",
       "      <td id=\"T_0db96_row14_col1\" class=\"data row14 col1\" >633302.000000</td>\n",
       "      <td id=\"T_0db96_row14_col2\" class=\"data row14 col2\" >536595.000000</td>\n",
       "      <td id=\"T_0db96_row14_col3\" class=\"data row14 col3\" >2357.000000</td>\n",
       "      <td id=\"T_0db96_row14_col4\" class=\"data row14 col4\" >84.729718</td>\n",
       "      <td id=\"T_0db96_row14_col5\" class=\"data row14 col5\" >0.372176</td>\n",
       "    </tr>\n",
       "    <tr>\n",
       "      <th id=\"T_0db96_level0_row15\" class=\"row_heading level0 row15\" >Telangana</th>\n",
       "      <td id=\"T_0db96_row15_col0\" class=\"data row15 col0\" >80695.000000</td>\n",
       "      <td id=\"T_0db96_row15_col1\" class=\"data row15 col1\" >536766.000000</td>\n",
       "      <td id=\"T_0db96_row15_col2\" class=\"data row15 col2\" >485644.000000</td>\n",
       "      <td id=\"T_0db96_row15_col3\" class=\"data row15 col3\" >3012.000000</td>\n",
       "      <td id=\"T_0db96_row15_col4\" class=\"data row15 col4\" >90.475924</td>\n",
       "      <td id=\"T_0db96_row15_col5\" class=\"data row15 col5\" >0.561138</td>\n",
       "    </tr>\n",
       "    <tr>\n",
       "      <th id=\"T_0db96_level0_row16\" class=\"row_heading level0 row16\" >Punjab</th>\n",
       "      <td id=\"T_0db96_row16_col0\" class=\"data row16 col0\" >79963.000000</td>\n",
       "      <td id=\"T_0db96_row16_col1\" class=\"data row16 col1\" >511652.000000</td>\n",
       "      <td id=\"T_0db96_row16_col2\" class=\"data row16 col2\" >427058.000000</td>\n",
       "      <td id=\"T_0db96_row16_col3\" class=\"data row16 col3\" >12317.000000</td>\n",
       "      <td id=\"T_0db96_row16_col4\" class=\"data row16 col4\" >83.466497</td>\n",
       "      <td id=\"T_0db96_row16_col5\" class=\"data row16 col5\" >2.407300</td>\n",
       "    </tr>\n",
       "    <tr>\n",
       "      <th id=\"T_0db96_level0_row17\" class=\"row_heading level0 row17\" >Telengana</th>\n",
       "      <td id=\"T_0db96_row17_col0\" class=\"data row17 col0\" >78888.000000</td>\n",
       "      <td id=\"T_0db96_row17_col1\" class=\"data row17 col1\" >443360.000000</td>\n",
       "      <td id=\"T_0db96_row17_col2\" class=\"data row17 col2\" >362160.000000</td>\n",
       "      <td id=\"T_0db96_row17_col3\" class=\"data row17 col3\" >2312.000000</td>\n",
       "      <td id=\"T_0db96_row17_col4\" class=\"data row17 col4\" >81.685312</td>\n",
       "      <td id=\"T_0db96_row17_col5\" class=\"data row17 col5\" >0.521472</td>\n",
       "    </tr>\n",
       "    <tr>\n",
       "      <th id=\"T_0db96_level0_row18\" class=\"row_heading level0 row18\" >Assam</th>\n",
       "      <td id=\"T_0db96_row18_col0\" class=\"data row18 col0\" >47740.000000</td>\n",
       "      <td id=\"T_0db96_row18_col1\" class=\"data row18 col1\" >340858.000000</td>\n",
       "      <td id=\"T_0db96_row18_col2\" class=\"data row18 col2\" >290774.000000</td>\n",
       "      <td id=\"T_0db96_row18_col3\" class=\"data row18 col3\" >2344.000000</td>\n",
       "      <td id=\"T_0db96_row18_col4\" class=\"data row18 col4\" >85.306491</td>\n",
       "      <td id=\"T_0db96_row18_col5\" class=\"data row18 col5\" >0.687676</td>\n",
       "    </tr>\n",
       "    <tr>\n",
       "      <th id=\"T_0db96_level0_row19\" class=\"row_heading level0 row19\" >Jharkhand</th>\n",
       "      <td id=\"T_0db96_row19_col0\" class=\"data row19 col0\" >61195.000000</td>\n",
       "      <td id=\"T_0db96_row19_col1\" class=\"data row19 col1\" >320934.000000</td>\n",
       "      <td id=\"T_0db96_row19_col2\" class=\"data row19 col2\" >284805.000000</td>\n",
       "      <td id=\"T_0db96_row19_col3\" class=\"data row19 col3\" >4601.000000</td>\n",
       "      <td id=\"T_0db96_row19_col4\" class=\"data row19 col4\" >88.742545</td>\n",
       "      <td id=\"T_0db96_row19_col5\" class=\"data row19 col5\" >1.433628</td>\n",
       "    </tr>\n",
       "    <tr>\n",
       "      <th id=\"T_0db96_level0_row20\" class=\"row_heading level0 row20\" >Uttarakhand</th>\n",
       "      <td id=\"T_0db96_row20_col0\" class=\"data row20 col0\" >80000.000000</td>\n",
       "      <td id=\"T_0db96_row20_col1\" class=\"data row20 col1\" >295790.000000</td>\n",
       "      <td id=\"T_0db96_row20_col2\" class=\"data row20 col2\" >214426.000000</td>\n",
       "      <td id=\"T_0db96_row20_col3\" class=\"data row20 col3\" >5132.000000</td>\n",
       "      <td id=\"T_0db96_row20_col4\" class=\"data row20 col4\" >72.492647</td>\n",
       "      <td id=\"T_0db96_row20_col5\" class=\"data row20 col5\" >1.735015</td>\n",
       "    </tr>\n",
       "    <tr>\n",
       "      <th id=\"T_0db96_level0_row21\" class=\"row_heading level0 row21\" >Jammu and Kashmir</th>\n",
       "      <td id=\"T_0db96_row21_col0\" class=\"data row21 col0\" >52848.000000</td>\n",
       "      <td id=\"T_0db96_row21_col1\" class=\"data row21 col1\" >251919.000000</td>\n",
       "      <td id=\"T_0db96_row21_col2\" class=\"data row21 col2\" >197701.000000</td>\n",
       "      <td id=\"T_0db96_row21_col3\" class=\"data row21 col3\" >3293.000000</td>\n",
       "      <td id=\"T_0db96_row21_col4\" class=\"data row21 col4\" >78.478003</td>\n",
       "      <td id=\"T_0db96_row21_col5\" class=\"data row21 col5\" >1.307166</td>\n",
       "    </tr>\n",
       "    <tr>\n",
       "      <th id=\"T_0db96_level0_row22\" class=\"row_heading level0 row22\" >Himachal Pradesh</th>\n",
       "      <td id=\"T_0db96_row22_col0\" class=\"data row22 col0\" >40008.000000</td>\n",
       "      <td id=\"T_0db96_row22_col1\" class=\"data row22 col1\" >166678.000000</td>\n",
       "      <td id=\"T_0db96_row22_col2\" class=\"data row22 col2\" >129330.000000</td>\n",
       "      <td id=\"T_0db96_row22_col3\" class=\"data row22 col3\" >2460.000000</td>\n",
       "      <td id=\"T_0db96_row22_col4\" class=\"data row22 col4\" >77.592724</td>\n",
       "      <td id=\"T_0db96_row22_col5\" class=\"data row22 col5\" >1.475900</td>\n",
       "    </tr>\n",
       "    <tr>\n",
       "      <th id=\"T_0db96_level0_row23\" class=\"row_heading level0 row23\" >Goa</th>\n",
       "      <td id=\"T_0db96_row23_col0\" class=\"data row23 col0\" >32953.000000</td>\n",
       "      <td id=\"T_0db96_row23_col1\" class=\"data row23 col1\" >138776.000000</td>\n",
       "      <td id=\"T_0db96_row23_col2\" class=\"data row23 col2\" >112633.000000</td>\n",
       "      <td id=\"T_0db96_row23_col3\" class=\"data row23 col3\" >2197.000000</td>\n",
       "      <td id=\"T_0db96_row23_col4\" class=\"data row23 col4\" >81.161728</td>\n",
       "      <td id=\"T_0db96_row23_col5\" class=\"data row23 col5\" >1.583127</td>\n",
       "    </tr>\n",
       "    <tr>\n",
       "      <th id=\"T_0db96_level0_row24\" class=\"row_heading level0 row24\" >Puducherry</th>\n",
       "      <td id=\"T_0db96_row24_col0\" class=\"data row24 col0\" >17666.000000</td>\n",
       "      <td id=\"T_0db96_row24_col1\" class=\"data row24 col1\" >87749.000000</td>\n",
       "      <td id=\"T_0db96_row24_col2\" class=\"data row24 col2\" >69060.000000</td>\n",
       "      <td id=\"T_0db96_row24_col3\" class=\"data row24 col3\" >1212.000000</td>\n",
       "      <td id=\"T_0db96_row24_col4\" class=\"data row24 col4\" >78.701752</td>\n",
       "      <td id=\"T_0db96_row24_col5\" class=\"data row24 col5\" >1.381212</td>\n",
       "    </tr>\n",
       "    <tr>\n",
       "      <th id=\"T_0db96_level0_row25\" class=\"row_heading level0 row25\" >Chandigarh</th>\n",
       "      <td id=\"T_0db96_row25_col0\" class=\"data row25 col0\" >8653.000000</td>\n",
       "      <td id=\"T_0db96_row25_col1\" class=\"data row25 col1\" >56513.000000</td>\n",
       "      <td id=\"T_0db96_row25_col2\" class=\"data row25 col2\" >48831.000000</td>\n",
       "      <td id=\"T_0db96_row25_col3\" class=\"data row25 col3\" >647.000000</td>\n",
       "      <td id=\"T_0db96_row25_col4\" class=\"data row25 col4\" >86.406667</td>\n",
       "      <td id=\"T_0db96_row25_col5\" class=\"data row25 col5\" >1.144869</td>\n",
       "    </tr>\n",
       "    <tr>\n",
       "      <th id=\"T_0db96_level0_row26\" class=\"row_heading level0 row26\" >Tripura</th>\n",
       "      <td id=\"T_0db96_row26_col0\" class=\"data row26 col0\" >7584.000000</td>\n",
       "      <td id=\"T_0db96_row26_col1\" class=\"data row26 col1\" >42776.000000</td>\n",
       "      <td id=\"T_0db96_row26_col2\" class=\"data row26 col2\" >36402.000000</td>\n",
       "      <td id=\"T_0db96_row26_col3\" class=\"data row26 col3\" >450.000000</td>\n",
       "      <td id=\"T_0db96_row26_col4\" class=\"data row26 col4\" >85.099121</td>\n",
       "      <td id=\"T_0db96_row26_col5\" class=\"data row26 col5\" >1.051992</td>\n",
       "    </tr>\n",
       "    <tr>\n",
       "      <th id=\"T_0db96_level0_row27\" class=\"row_heading level0 row27\" >Manipur</th>\n",
       "      <td id=\"T_0db96_row27_col0\" class=\"data row27 col0\" >6605.000000</td>\n",
       "      <td id=\"T_0db96_row27_col1\" class=\"data row27 col1\" >40683.000000</td>\n",
       "      <td id=\"T_0db96_row27_col2\" class=\"data row27 col2\" >33466.000000</td>\n",
       "      <td id=\"T_0db96_row27_col3\" class=\"data row27 col3\" >612.000000</td>\n",
       "      <td id=\"T_0db96_row27_col4\" class=\"data row27 col4\" >82.260404</td>\n",
       "      <td id=\"T_0db96_row27_col5\" class=\"data row27 col5\" >1.504314</td>\n",
       "    </tr>\n",
       "    <tr>\n",
       "      <th id=\"T_0db96_level0_row28\" class=\"row_heading level0 row28\" >Meghalaya</th>\n",
       "      <td id=\"T_0db96_row28_col0\" class=\"data row28 col0\" >5332.000000</td>\n",
       "      <td id=\"T_0db96_row28_col1\" class=\"data row28 col1\" >24872.000000</td>\n",
       "      <td id=\"T_0db96_row28_col2\" class=\"data row28 col2\" >19185.000000</td>\n",
       "      <td id=\"T_0db96_row28_col3\" class=\"data row28 col3\" >355.000000</td>\n",
       "      <td id=\"T_0db96_row28_col4\" class=\"data row28 col4\" >77.134931</td>\n",
       "      <td id=\"T_0db96_row28_col5\" class=\"data row28 col5\" >1.427308</td>\n",
       "    </tr>\n",
       "    <tr>\n",
       "      <th id=\"T_0db96_level0_row29\" class=\"row_heading level0 row29\" >Arunachal Pradesh</th>\n",
       "      <td id=\"T_0db96_row29_col0\" class=\"data row29 col0\" >3068.000000</td>\n",
       "      <td id=\"T_0db96_row29_col1\" class=\"data row29 col1\" >22462.000000</td>\n",
       "      <td id=\"T_0db96_row29_col2\" class=\"data row29 col2\" >19977.000000</td>\n",
       "      <td id=\"T_0db96_row29_col3\" class=\"data row29 col3\" >88.000000</td>\n",
       "      <td id=\"T_0db96_row29_col4\" class=\"data row29 col4\" >88.936871</td>\n",
       "      <td id=\"T_0db96_row29_col5\" class=\"data row29 col5\" >0.391773</td>\n",
       "    </tr>\n",
       "    <tr>\n",
       "      <th id=\"T_0db96_level0_row30\" class=\"row_heading level0 row30\" >Nagaland</th>\n",
       "      <td id=\"T_0db96_row30_col0\" class=\"data row30 col0\" >4407.000000</td>\n",
       "      <td id=\"T_0db96_row30_col1\" class=\"data row30 col1\" >18714.000000</td>\n",
       "      <td id=\"T_0db96_row30_col2\" class=\"data row30 col2\" >14079.000000</td>\n",
       "      <td id=\"T_0db96_row30_col3\" class=\"data row30 col3\" >228.000000</td>\n",
       "      <td id=\"T_0db96_row30_col4\" class=\"data row30 col4\" >75.232446</td>\n",
       "      <td id=\"T_0db96_row30_col5\" class=\"data row30 col5\" >1.218339</td>\n",
       "    </tr>\n",
       "    <tr>\n",
       "      <th id=\"T_0db96_level0_row31\" class=\"row_heading level0 row31\" >Ladakh</th>\n",
       "      <td id=\"T_0db96_row31_col0\" class=\"data row31 col0\" >2041.000000</td>\n",
       "      <td id=\"T_0db96_row31_col1\" class=\"data row31 col1\" >16784.000000</td>\n",
       "      <td id=\"T_0db96_row31_col2\" class=\"data row31 col2\" >15031.000000</td>\n",
       "      <td id=\"T_0db96_row31_col3\" class=\"data row31 col3\" >170.000000</td>\n",
       "      <td id=\"T_0db96_row31_col4\" class=\"data row31 col4\" >89.555529</td>\n",
       "      <td id=\"T_0db96_row31_col5\" class=\"data row31 col5\" >1.012869</td>\n",
       "    </tr>\n",
       "    <tr>\n",
       "      <th id=\"T_0db96_level0_row32\" class=\"row_heading level0 row32\" >Sikkim</th>\n",
       "      <td id=\"T_0db96_row32_col0\" class=\"data row32 col0\" >3096.000000</td>\n",
       "      <td id=\"T_0db96_row32_col1\" class=\"data row32 col1\" >11689.000000</td>\n",
       "      <td id=\"T_0db96_row32_col2\" class=\"data row32 col2\" >8427.000000</td>\n",
       "      <td id=\"T_0db96_row32_col3\" class=\"data row32 col3\" >212.000000</td>\n",
       "      <td id=\"T_0db96_row32_col4\" class=\"data row32 col4\" >72.093421</td>\n",
       "      <td id=\"T_0db96_row32_col5\" class=\"data row32 col5\" >1.813671</td>\n",
       "    </tr>\n",
       "    <tr>\n",
       "      <th id=\"T_0db96_level0_row33\" class=\"row_heading level0 row33\" >Dadra and Nagar Haveli and Daman and Diu</th>\n",
       "      <td id=\"T_0db96_row33_col0\" class=\"data row33 col0\" >2081.000000</td>\n",
       "      <td id=\"T_0db96_row33_col1\" class=\"data row33 col1\" >9652.000000</td>\n",
       "      <td id=\"T_0db96_row33_col2\" class=\"data row33 col2\" >8944.000000</td>\n",
       "      <td id=\"T_0db96_row33_col3\" class=\"data row33 col3\" >4.000000</td>\n",
       "      <td id=\"T_0db96_row33_col4\" class=\"data row33 col4\" >92.664733</td>\n",
       "      <td id=\"T_0db96_row33_col5\" class=\"data row33 col5\" >0.041442</td>\n",
       "    </tr>\n",
       "    <tr>\n",
       "      <th id=\"T_0db96_level0_row34\" class=\"row_heading level0 row34\" >Cases being reassigned to states</th>\n",
       "      <td id=\"T_0db96_row34_col0\" class=\"data row34 col0\" >9265.000000</td>\n",
       "      <td id=\"T_0db96_row34_col1\" class=\"data row34 col1\" >9265.000000</td>\n",
       "      <td id=\"T_0db96_row34_col2\" class=\"data row34 col2\" >0.000000</td>\n",
       "      <td id=\"T_0db96_row34_col3\" class=\"data row34 col3\" >0.000000</td>\n",
       "      <td id=\"T_0db96_row34_col4\" class=\"data row34 col4\" >0.000000</td>\n",
       "      <td id=\"T_0db96_row34_col5\" class=\"data row34 col5\" >0.000000</td>\n",
       "    </tr>\n",
       "    <tr>\n",
       "      <th id=\"T_0db96_level0_row35\" class=\"row_heading level0 row35\" >Mizoram</th>\n",
       "      <td id=\"T_0db96_row35_col0\" class=\"data row35 col0\" >2158.000000</td>\n",
       "      <td id=\"T_0db96_row35_col1\" class=\"data row35 col1\" >9252.000000</td>\n",
       "      <td id=\"T_0db96_row35_col2\" class=\"data row35 col2\" >7094.000000</td>\n",
       "      <td id=\"T_0db96_row35_col3\" class=\"data row35 col3\" >29.000000</td>\n",
       "      <td id=\"T_0db96_row35_col4\" class=\"data row35 col4\" >76.675313</td>\n",
       "      <td id=\"T_0db96_row35_col5\" class=\"data row35 col5\" >0.313446</td>\n",
       "    </tr>\n",
       "    <tr>\n",
       "      <th id=\"T_0db96_level0_row36\" class=\"row_heading level0 row36\" >Andaman and Nicobar Islands</th>\n",
       "      <td id=\"T_0db96_row36_col0\" class=\"data row36 col0\" >1154.000000</td>\n",
       "      <td id=\"T_0db96_row36_col1\" class=\"data row36 col1\" >6674.000000</td>\n",
       "      <td id=\"T_0db96_row36_col2\" class=\"data row36 col2\" >6359.000000</td>\n",
       "      <td id=\"T_0db96_row36_col3\" class=\"data row36 col3\" >92.000000</td>\n",
       "      <td id=\"T_0db96_row36_col4\" class=\"data row36 col4\" >95.280192</td>\n",
       "      <td id=\"T_0db96_row36_col5\" class=\"data row36 col5\" >1.378484</td>\n",
       "    </tr>\n",
       "    <tr>\n",
       "      <th id=\"T_0db96_level0_row37\" class=\"row_heading level0 row37\" >Lakshadweep</th>\n",
       "      <td id=\"T_0db96_row37_col0\" class=\"data row37 col0\" >1438.000000</td>\n",
       "      <td id=\"T_0db96_row37_col1\" class=\"data row37 col1\" >5212.000000</td>\n",
       "      <td id=\"T_0db96_row37_col2\" class=\"data row37 col2\" >3915.000000</td>\n",
       "      <td id=\"T_0db96_row37_col3\" class=\"data row37 col3\" >15.000000</td>\n",
       "      <td id=\"T_0db96_row37_col4\" class=\"data row37 col4\" >75.115119</td>\n",
       "      <td id=\"T_0db96_row37_col5\" class=\"data row37 col5\" >0.287797</td>\n",
       "    </tr>\n",
       "    <tr>\n",
       "      <th id=\"T_0db96_level0_row38\" class=\"row_heading level0 row38\" >Unassigned</th>\n",
       "      <td id=\"T_0db96_row38_col0\" class=\"data row38 col0\" >77.000000</td>\n",
       "      <td id=\"T_0db96_row38_col1\" class=\"data row38 col1\" >77.000000</td>\n",
       "      <td id=\"T_0db96_row38_col2\" class=\"data row38 col2\" >0.000000</td>\n",
       "      <td id=\"T_0db96_row38_col3\" class=\"data row38 col3\" >0.000000</td>\n",
       "      <td id=\"T_0db96_row38_col4\" class=\"data row38 col4\" >0.000000</td>\n",
       "      <td id=\"T_0db96_row38_col5\" class=\"data row38 col5\" >0.000000</td>\n",
       "    </tr>\n",
       "    <tr>\n",
       "      <th id=\"T_0db96_level0_row39\" class=\"row_heading level0 row39\" >Daman & Diu</th>\n",
       "      <td id=\"T_0db96_row39_col0\" class=\"data row39 col0\" >2.000000</td>\n",
       "      <td id=\"T_0db96_row39_col1\" class=\"data row39 col1\" >2.000000</td>\n",
       "      <td id=\"T_0db96_row39_col2\" class=\"data row39 col2\" >0.000000</td>\n",
       "      <td id=\"T_0db96_row39_col3\" class=\"data row39 col3\" >0.000000</td>\n",
       "      <td id=\"T_0db96_row39_col4\" class=\"data row39 col4\" >0.000000</td>\n",
       "      <td id=\"T_0db96_row39_col5\" class=\"data row39 col5\" >0.000000</td>\n",
       "    </tr>\n",
       "  </tbody>\n",
       "</table>\n"
      ],
      "text/plain": [
       "<pandas.io.formats.style.Styler at 0x2ceb8c8e390>"
      ]
     },
     "execution_count": 22,
     "metadata": {},
     "output_type": "execute_result"
    }
   ],
   "source": [
    "statewise.style.background_gradient(cmap='cubehelix')"
   ]
  },
  {
   "cell_type": "code",
   "execution_count": 25,
   "metadata": {},
   "outputs": [
    {
     "data": {
      "text/html": [
       "<div>\n",
       "<style scoped>\n",
       "    .dataframe tbody tr th:only-of-type {\n",
       "        vertical-align: middle;\n",
       "    }\n",
       "\n",
       "    .dataframe tbody tr th {\n",
       "        vertical-align: top;\n",
       "    }\n",
       "\n",
       "    .dataframe thead th {\n",
       "        text-align: right;\n",
       "    }\n",
       "</style>\n",
       "<table border=\"1\" class=\"dataframe\">\n",
       "  <thead>\n",
       "    <tr style=\"text-align: right;\">\n",
       "      <th></th>\n",
       "      <th>State/UnionTerritory</th>\n",
       "      <th>Active_cases</th>\n",
       "      <th>Date</th>\n",
       "    </tr>\n",
       "  </thead>\n",
       "  <tbody>\n",
       "    <tr>\n",
       "      <th>0</th>\n",
       "      <td>Maharashtra</td>\n",
       "      <td>701614.0</td>\n",
       "      <td>2021-05-19</td>\n",
       "    </tr>\n",
       "    <tr>\n",
       "      <th>1</th>\n",
       "      <td>Karnataka</td>\n",
       "      <td>605515.0</td>\n",
       "      <td>2021-05-19</td>\n",
       "    </tr>\n",
       "    <tr>\n",
       "      <th>2</th>\n",
       "      <td>Kerala</td>\n",
       "      <td>445692.0</td>\n",
       "      <td>2021-05-19</td>\n",
       "    </tr>\n",
       "    <tr>\n",
       "      <th>3</th>\n",
       "      <td>Uttar Pradesh</td>\n",
       "      <td>310783.0</td>\n",
       "      <td>2021-05-19</td>\n",
       "    </tr>\n",
       "    <tr>\n",
       "      <th>4</th>\n",
       "      <td>Tamil Nadu</td>\n",
       "      <td>242929.0</td>\n",
       "      <td>2021-05-19</td>\n",
       "    </tr>\n",
       "    <tr>\n",
       "      <th>5</th>\n",
       "      <td>Rajasthan</td>\n",
       "      <td>212753.0</td>\n",
       "      <td>2021-05-19</td>\n",
       "    </tr>\n",
       "    <tr>\n",
       "      <th>6</th>\n",
       "      <td>Andhra Pradesh</td>\n",
       "      <td>211554.0</td>\n",
       "      <td>2021-05-19</td>\n",
       "    </tr>\n",
       "    <tr>\n",
       "      <th>7</th>\n",
       "      <td>Gujarat</td>\n",
       "      <td>148297.0</td>\n",
       "      <td>2021-05-19</td>\n",
       "    </tr>\n",
       "    <tr>\n",
       "      <th>8</th>\n",
       "      <td>West Bengal</td>\n",
       "      <td>131948.0</td>\n",
       "      <td>2021-05-19</td>\n",
       "    </tr>\n",
       "    <tr>\n",
       "      <th>9</th>\n",
       "      <td>Chhattisgarh</td>\n",
       "      <td>131245.0</td>\n",
       "      <td>2021-05-19</td>\n",
       "    </tr>\n",
       "  </tbody>\n",
       "</table>\n",
       "</div>"
      ],
      "text/plain": [
       "  State/UnionTerritory  Active_cases       Date\n",
       "0          Maharashtra      701614.0 2021-05-19\n",
       "1            Karnataka      605515.0 2021-05-19\n",
       "2               Kerala      445692.0 2021-05-19\n",
       "3        Uttar Pradesh      310783.0 2021-05-19\n",
       "4           Tamil Nadu      242929.0 2021-05-19\n",
       "5            Rajasthan      212753.0 2021-05-19\n",
       "6       Andhra Pradesh      211554.0 2021-05-19\n",
       "7              Gujarat      148297.0 2021-05-19\n",
       "8          West Bengal      131948.0 2021-05-19\n",
       "9         Chhattisgarh      131245.0 2021-05-19"
      ]
     },
     "execution_count": 25,
     "metadata": {},
     "output_type": "execute_result"
    }
   ],
   "source": [
    "# Top 10 active cases states \n",
    "\n",
    "top_10_active_cases = covid_df.groupby(by = 'State/UnionTerritory').max()[['Active_cases', 'Date']].sort_values(by=['Active_cases'], ascending=False).reset_index().head(10)\n",
    "top_10_active_cases"
   ]
  },
  {
   "cell_type": "code",
   "execution_count": 28,
   "metadata": {},
   "outputs": [
    {
     "name": "stderr",
     "output_type": "stream",
     "text": [
      "C:\\Users\\Iqras\\AppData\\Local\\Temp\\ipykernel_5996\\2898742745.py:3: FutureWarning: \n",
      "\n",
      "Passing `palette` without assigning `hue` is deprecated and will be removed in v0.14.0. Assign the `x` variable to `hue` and set `legend=False` for the same effect.\n",
      "\n",
      "  ax = sns.barplot(data=top_10_active_cases.iloc[:10], x='State/UnionTerritory', y='Active_cases',\n"
     ]
    },
    {
     "data": {
      "image/png": "[encoded data removed]",
      "text/plain": [
       "<Figure size 1600x900 with 1 Axes>"
      ]
     },
     "metadata": {},
     "output_type": "display_data"
    }
   ],
   "source": [
    "fig= plt.figure(figsize=(16, 9))\n",
    "plt.title(\"Top 10 states with most active cases\", size= 20)\n",
    "ax = sns.barplot(data=top_10_active_cases.iloc[:10], x='State/UnionTerritory', y='Active_cases',\n",
    "                 palette='viridis', linewidth= 2, edgecolor='red')\n",
    "plt.xlabel(\"States\")\n",
    "plt.ylabel(\"Total Active Cases\")\n",
    "plt.show()"
   ]
  },
  {
   "cell_type": "code",
   "execution_count": 29,
   "metadata": {},
   "outputs": [
    {
     "data": {
      "text/html": [
       "<div>\n",
       "<style scoped>\n",
       "    .dataframe tbody tr th:only-of-type {\n",
       "        vertical-align: middle;\n",
       "    }\n",
       "\n",
       "    .dataframe tbody tr th {\n",
       "        vertical-align: top;\n",
       "    }\n",
       "\n",
       "    .dataframe thead th {\n",
       "        text-align: right;\n",
       "    }\n",
       "</style>\n",
       "<table border=\"1\" class=\"dataframe\">\n",
       "  <thead>\n",
       "    <tr style=\"text-align: right;\">\n",
       "      <th></th>\n",
       "      <th>State/UnionTerritory</th>\n",
       "      <th>Deaths</th>\n",
       "      <th>Date</th>\n",
       "    </tr>\n",
       "  </thead>\n",
       "  <tbody>\n",
       "    <tr>\n",
       "      <th>0</th>\n",
       "      <td>Maharashtra</td>\n",
       "      <td>83777.0</td>\n",
       "      <td>2021-05-19</td>\n",
       "    </tr>\n",
       "    <tr>\n",
       "      <th>1</th>\n",
       "      <td>Karnataka</td>\n",
       "      <td>22838.0</td>\n",
       "      <td>2021-05-19</td>\n",
       "    </tr>\n",
       "    <tr>\n",
       "      <th>2</th>\n",
       "      <td>Delhi</td>\n",
       "      <td>22111.0</td>\n",
       "      <td>2021-05-19</td>\n",
       "    </tr>\n",
       "    <tr>\n",
       "      <th>3</th>\n",
       "      <td>Tamil Nadu</td>\n",
       "      <td>18369.0</td>\n",
       "      <td>2021-05-19</td>\n",
       "    </tr>\n",
       "    <tr>\n",
       "      <th>4</th>\n",
       "      <td>Uttar Pradesh</td>\n",
       "      <td>18072.0</td>\n",
       "      <td>2021-05-19</td>\n",
       "    </tr>\n",
       "    <tr>\n",
       "      <th>5</th>\n",
       "      <td>West Bengal</td>\n",
       "      <td>13576.0</td>\n",
       "      <td>2021-05-19</td>\n",
       "    </tr>\n",
       "    <tr>\n",
       "      <th>6</th>\n",
       "      <td>Punjab</td>\n",
       "      <td>12317.0</td>\n",
       "      <td>2021-05-19</td>\n",
       "    </tr>\n",
       "    <tr>\n",
       "      <th>7</th>\n",
       "      <td>Chhattisgarh</td>\n",
       "      <td>12036.0</td>\n",
       "      <td>2021-05-19</td>\n",
       "    </tr>\n",
       "    <tr>\n",
       "      <th>8</th>\n",
       "      <td>Andhra Pradesh</td>\n",
       "      <td>9580.0</td>\n",
       "      <td>2021-05-19</td>\n",
       "    </tr>\n",
       "    <tr>\n",
       "      <th>9</th>\n",
       "      <td>Gujarat</td>\n",
       "      <td>9269.0</td>\n",
       "      <td>2021-05-19</td>\n",
       "    </tr>\n",
       "  </tbody>\n",
       "</table>\n",
       "</div>"
      ],
      "text/plain": [
       "  State/UnionTerritory   Deaths       Date\n",
       "0          Maharashtra  83777.0 2021-05-19\n",
       "1            Karnataka  22838.0 2021-05-19\n",
       "2                Delhi  22111.0 2021-05-19\n",
       "3           Tamil Nadu  18369.0 2021-05-19\n",
       "4        Uttar Pradesh  18072.0 2021-05-19\n",
       "5          West Bengal  13576.0 2021-05-19\n",
       "6               Punjab  12317.0 2021-05-19\n",
       "7         Chhattisgarh  12036.0 2021-05-19\n",
       "8       Andhra Pradesh   9580.0 2021-05-19\n",
       "9              Gujarat   9269.0 2021-05-19"
      ]
     },
     "execution_count": 29,
     "metadata": {},
     "output_type": "execute_result"
    }
   ],
   "source": [
    "# Top states With highest deaths \n",
    "\n",
    "top_10_deaths = covid_df.groupby(by = 'State/UnionTerritory').max()[['Deaths', 'Date']].sort_values(by=['Deaths'], ascending=False).reset_index().head(10)\n",
    "top_10_deaths"
   ]
  },
  {
   "cell_type": "code",
   "execution_count": 30,
   "metadata": {},
   "outputs": [
    {
     "name": "stderr",
     "output_type": "stream",
     "text": [
      "C:\\Users\\Iqras\\AppData\\Local\\Temp\\ipykernel_5996\\819807903.py:3: FutureWarning: \n",
      "\n",
      "Passing `palette` without assigning `hue` is deprecated and will be removed in v0.14.0. Assign the `x` variable to `hue` and set `legend=False` for the same effect.\n",
      "\n",
      "  ax = sns.barplot(data=top_10_deaths.iloc[:12], x='State/UnionTerritory', y='Deaths',\n"
     ]
    },
    {
     "data": {
      "image/png": "[encoded data removed]",
      "text/plain": [
       "<Figure size 1600x900 with 1 Axes>"
      ]
     },
     "metadata": {},
     "output_type": "display_data"
    }
   ],
   "source": [
    "fig= plt.figure(figsize=(16, 9))\n",
    "plt.title(\"Top 10 states with most deaths\", size= 20)\n",
    "ax = sns.barplot(data=top_10_deaths.iloc[:12], x='State/UnionTerritory', y='Deaths',\n",
    "                 palette='viridis', linewidth= 2, edgecolor='black')\n",
    "plt.xlabel(\"States\")\n",
    "plt.ylabel(\"Total Death Cases\")\n",
    "plt.show()"
   ]
  },
  {
   "cell_type": "code",
   "execution_count": 32,
   "metadata": {},
   "outputs": [
    {
     "data": {
      "image/png": "[encoded data removed]",
      "text/plain": [
       "<Figure size 1600x900 with 1 Axes>"
      ]
     },
     "metadata": {},
     "output_type": "display_data"
    }
   ],
   "source": [
    "# Growth trends \n",
    "\n",
    "fig= plt.figure(figsize=(16, 9))\n",
    "ax = sns.lineplot(data=covid_df[covid_df['State/UnionTerritory'].isin(['Maharashtra', 'Karnataka', 'Kerala', 'Tamil Nadu','Uttar Paradesh'])], \n",
    "                  x='Date', y='Active_cases', hue='State/UnionTerritory', linewidth= 2)\n",
    "ax.set_title(\"Top 5 Affected States\", size= 16)\n",
    "plt.xlabel(\"States\")\n",
    "plt.ylabel(\"Total Active Cases\")\n",
    "plt.show()"
   ]
  },
  {
   "cell_type": "code",
   "execution_count": 35,
   "metadata": {},
   "outputs": [
    {
     "data": {
      "text/html": [
       "<div>\n",
       "<style scoped>\n",
       "    .dataframe tbody tr th:only-of-type {\n",
       "        vertical-align: middle;\n",
       "    }\n",
       "\n",
       "    .dataframe tbody tr th {\n",
       "        vertical-align: top;\n",
       "    }\n",
       "\n",
       "    .dataframe thead th {\n",
       "        text-align: right;\n",
       "    }\n",
       "</style>\n",
       "<table border=\"1\" class=\"dataframe\">\n",
       "  <thead>\n",
       "    <tr style=\"text-align: right;\">\n",
       "      <th></th>\n",
       "      <th>Vaccine_date</th>\n",
       "      <th>State</th>\n",
       "      <th>Total Doses Administered</th>\n",
       "      <th>Sessions</th>\n",
       "      <th>Sites</th>\n",
       "      <th>First Dose Administered</th>\n",
       "      <th>Second Dose Administered</th>\n",
       "      <th>Male (Doses Administered)</th>\n",
       "      <th>Female (Doses Administered)</th>\n",
       "      <th>Transgender (Doses Administered)</th>\n",
       "      <th>...</th>\n",
       "      <th>18-44 Years (Doses Administered)</th>\n",
       "      <th>45-60 Years (Doses Administered)</th>\n",
       "      <th>60+ Years (Doses Administered)</th>\n",
       "      <th>18-44 Years(Individuals Vaccinated)</th>\n",
       "      <th>45-60 Years(Individuals Vaccinated)</th>\n",
       "      <th>60+ Years(Individuals Vaccinated)</th>\n",
       "      <th>Male(Individuals Vaccinated)</th>\n",
       "      <th>Female(Individuals Vaccinated)</th>\n",
       "      <th>Transgender(Individuals Vaccinated)</th>\n",
       "      <th>Total Individuals Vaccinated</th>\n",
       "    </tr>\n",
       "  </thead>\n",
       "  <tbody>\n",
       "    <tr>\n",
       "      <th>0</th>\n",
       "      <td>16/01/2021</td>\n",
       "      <td>India</td>\n",
       "      <td>48276.0</td>\n",
       "      <td>3455.0</td>\n",
       "      <td>2957.0</td>\n",
       "      <td>48276.0</td>\n",
       "      <td>0.0</td>\n",
       "      <td>NaN</td>\n",
       "      <td>NaN</td>\n",
       "      <td>NaN</td>\n",
       "      <td>...</td>\n",
       "      <td>NaN</td>\n",
       "      <td>NaN</td>\n",
       "      <td>NaN</td>\n",
       "      <td>NaN</td>\n",
       "      <td>NaN</td>\n",
       "      <td>NaN</td>\n",
       "      <td>23757.0</td>\n",
       "      <td>24517.0</td>\n",
       "      <td>2.0</td>\n",
       "      <td>48276.0</td>\n",
       "    </tr>\n",
       "    <tr>\n",
       "      <th>1</th>\n",
       "      <td>17/01/2021</td>\n",
       "      <td>India</td>\n",
       "      <td>58604.0</td>\n",
       "      <td>8532.0</td>\n",
       "      <td>4954.0</td>\n",
       "      <td>58604.0</td>\n",
       "      <td>0.0</td>\n",
       "      <td>NaN</td>\n",
       "      <td>NaN</td>\n",
       "      <td>NaN</td>\n",
       "      <td>...</td>\n",
       "      <td>NaN</td>\n",
       "      <td>NaN</td>\n",
       "      <td>NaN</td>\n",
       "      <td>NaN</td>\n",
       "      <td>NaN</td>\n",
       "      <td>NaN</td>\n",
       "      <td>27348.0</td>\n",
       "      <td>31252.0</td>\n",
       "      <td>4.0</td>\n",
       "      <td>58604.0</td>\n",
       "    </tr>\n",
       "    <tr>\n",
       "      <th>2</th>\n",
       "      <td>18/01/2021</td>\n",
       "      <td>India</td>\n",
       "      <td>99449.0</td>\n",
       "      <td>13611.0</td>\n",
       "      <td>6583.0</td>\n",
       "      <td>99449.0</td>\n",
       "      <td>0.0</td>\n",
       "      <td>NaN</td>\n",
       "      <td>NaN</td>\n",
       "      <td>NaN</td>\n",
       "      <td>...</td>\n",
       "      <td>NaN</td>\n",
       "      <td>NaN</td>\n",
       "      <td>NaN</td>\n",
       "      <td>NaN</td>\n",
       "      <td>NaN</td>\n",
       "      <td>NaN</td>\n",
       "      <td>41361.0</td>\n",
       "      <td>58083.0</td>\n",
       "      <td>5.0</td>\n",
       "      <td>99449.0</td>\n",
       "    </tr>\n",
       "  </tbody>\n",
       "</table>\n",
       "<p>3 rows × 24 columns</p>\n",
       "</div>"
      ],
      "text/plain": [
       "  Vaccine_date  State  Total Doses Administered  Sessions   Sites   \\\n",
       "0   16/01/2021  India                   48276.0    3455.0   2957.0   \n",
       "1   17/01/2021  India                   58604.0    8532.0   4954.0   \n",
       "2   18/01/2021  India                   99449.0   13611.0   6583.0   \n",
       "\n",
       "   First Dose Administered  Second Dose Administered  \\\n",
       "0                  48276.0                       0.0   \n",
       "1                  58604.0                       0.0   \n",
       "2                  99449.0                       0.0   \n",
       "\n",
       "   Male (Doses Administered)  Female (Doses Administered)  \\\n",
       "0                        NaN                          NaN   \n",
       "1                        NaN                          NaN   \n",
       "2                        NaN                          NaN   \n",
       "\n",
       "   Transgender (Doses Administered)  ...  18-44 Years (Doses Administered)  \\\n",
       "0                               NaN  ...                               NaN   \n",
       "1                               NaN  ...                               NaN   \n",
       "2                               NaN  ...                               NaN   \n",
       "\n",
       "   45-60 Years (Doses Administered)  60+ Years (Doses Administered)  \\\n",
       "0                               NaN                             NaN   \n",
       "1                               NaN                             NaN   \n",
       "2                               NaN                             NaN   \n",
       "\n",
       "   18-44 Years(Individuals Vaccinated)  45-60 Years(Individuals Vaccinated)  \\\n",
       "0                                  NaN                                  NaN   \n",
       "1                                  NaN                                  NaN   \n",
       "2                                  NaN                                  NaN   \n",
       "\n",
       "   60+ Years(Individuals Vaccinated)  Male(Individuals Vaccinated)  \\\n",
       "0                                NaN                       23757.0   \n",
       "1                                NaN                       27348.0   \n",
       "2                                NaN                       41361.0   \n",
       "\n",
       "   Female(Individuals Vaccinated)  Transgender(Individuals Vaccinated)  \\\n",
       "0                         24517.0                                  2.0   \n",
       "1                         31252.0                                  4.0   \n",
       "2                         58083.0                                  5.0   \n",
       "\n",
       "   Total Individuals Vaccinated  \n",
       "0                       48276.0  \n",
       "1                       58604.0  \n",
       "2                       99449.0  \n",
       "\n",
       "[3 rows x 24 columns]"
      ]
     },
     "execution_count": 35,
     "metadata": {},
     "output_type": "execute_result"
    }
   ],
   "source": [
    "vaccine_df.head(3)"
   ]
  },
  {
   "cell_type": "code",
   "execution_count": 34,
   "metadata": {},
   "outputs": [],
   "source": [
    "vaccine_df.rename(columns={'Updated On': 'Vaccine_date'}, inplace=True)"
   ]
  },
  {
   "cell_type": "code",
   "execution_count": 36,
   "metadata": {},
   "outputs": [
    {
     "name": "stdout",
     "output_type": "stream",
     "text": [
      "<class 'pandas.core.frame.DataFrame'>\n",
      "RangeIndex: 7845 entries, 0 to 7844\n",
      "Data columns (total 24 columns):\n",
      " #   Column                               Non-Null Count  Dtype  \n",
      "---  ------                               --------------  -----  \n",
      " 0   Vaccine_date                         7845 non-null   object \n",
      " 1   State                                7845 non-null   object \n",
      " 2   Total Doses Administered             7621 non-null   float64\n",
      " 3   Sessions                             7621 non-null   float64\n",
      " 4    Sites                               7621 non-null   float64\n",
      " 5   First Dose Administered              7621 non-null   float64\n",
      " 6   Second Dose Administered             7621 non-null   float64\n",
      " 7   Male (Doses Administered)            7461 non-null   float64\n",
      " 8   Female (Doses Administered)          7461 non-null   float64\n",
      " 9   Transgender (Doses Administered)     7461 non-null   float64\n",
      " 10   Covaxin (Doses Administered)        7621 non-null   float64\n",
      " 11  CoviShield (Doses Administered)      7621 non-null   float64\n",
      " 12  Sputnik V (Doses Administered)       2995 non-null   float64\n",
      " 13  AEFI                                 5438 non-null   float64\n",
      " 14  18-44 Years (Doses Administered)     1702 non-null   float64\n",
      " 15  45-60 Years (Doses Administered)     1702 non-null   float64\n",
      " 16  60+ Years (Doses Administered)       1702 non-null   float64\n",
      " 17  18-44 Years(Individuals Vaccinated)  3733 non-null   float64\n",
      " 18  45-60 Years(Individuals Vaccinated)  3734 non-null   float64\n",
      " 19  60+ Years(Individuals Vaccinated)    3734 non-null   float64\n",
      " 20  Male(Individuals Vaccinated)         160 non-null    float64\n",
      " 21  Female(Individuals Vaccinated)       160 non-null    float64\n",
      " 22  Transgender(Individuals Vaccinated)  160 non-null    float64\n",
      " 23  Total Individuals Vaccinated         5919 non-null   float64\n",
      "dtypes: float64(22), object(2)\n",
      "memory usage: 1.4+ MB\n"
     ]
    }
   ],
   "source": [
    "vaccine_df.info()"
   ]
  },
  {
   "cell_type": "code",
   "execution_count": 37,
   "metadata": {},
   "outputs": [
    {
     "data": {
      "text/plain": [
       "Vaccine_date                              0\n",
       "State                                     0\n",
       "Total Doses Administered                224\n",
       "Sessions                                224\n",
       " Sites                                  224\n",
       "First Dose Administered                 224\n",
       "Second Dose Administered                224\n",
       "Male (Doses Administered)               384\n",
       "Female (Doses Administered)             384\n",
       "Transgender (Doses Administered)        384\n",
       " Covaxin (Doses Administered)           224\n",
       "CoviShield (Doses Administered)         224\n",
       "Sputnik V (Doses Administered)         4850\n",
       "AEFI                                   2407\n",
       "18-44 Years (Doses Administered)       6143\n",
       "45-60 Years (Doses Administered)       6143\n",
       "60+ Years (Doses Administered)         6143\n",
       "18-44 Years(Individuals Vaccinated)    4112\n",
       "45-60 Years(Individuals Vaccinated)    4111\n",
       "60+ Years(Individuals Vaccinated)      4111\n",
       "Male(Individuals Vaccinated)           7685\n",
       "Female(Individuals Vaccinated)         7685\n",
       "Transgender(Individuals Vaccinated)    7685\n",
       "Total Individuals Vaccinated           1926\n",
       "dtype: int64"
      ]
     },
     "execution_count": 37,
     "metadata": {},
     "output_type": "execute_result"
    }
   ],
   "source": [
    "vaccine_df.isnull().sum()"
   ]
  },
  {
   "cell_type": "code",
   "execution_count": 38,
   "metadata": {},
   "outputs": [
    {
     "data": {
      "text/plain": [
       "Index(['Vaccine_date', 'State', 'Total Doses Administered', 'Sessions',\n",
       "       ' Sites ', 'First Dose Administered', 'Second Dose Administered',\n",
       "       'Male (Doses Administered)', 'Female (Doses Administered)',\n",
       "       'Transgender (Doses Administered)', ' Covaxin (Doses Administered)',\n",
       "       'CoviShield (Doses Administered)', 'Sputnik V (Doses Administered)',\n",
       "       'AEFI', '18-44 Years (Doses Administered)',\n",
       "       '45-60 Years (Doses Administered)', '60+ Years (Doses Administered)',\n",
       "       '18-44 Years(Individuals Vaccinated)',\n",
       "       '45-60 Years(Individuals Vaccinated)',\n",
       "       '60+ Years(Individuals Vaccinated)', 'Male(Individuals Vaccinated)',\n",
       "       'Female(Individuals Vaccinated)', 'Transgender(Individuals Vaccinated)',\n",
       "       'Total Individuals Vaccinated'],\n",
       "      dtype='object')"
      ]
     },
     "execution_count": 38,
     "metadata": {},
     "output_type": "execute_result"
    }
   ],
   "source": [
    "vaccine_df.columns"
   ]
  },
  {
   "cell_type": "code",
   "execution_count": 39,
   "metadata": {},
   "outputs": [],
   "source": [
    "vaccination= vaccine_df.drop(['Sputnik V (Doses Administered)',\n",
    "       'AEFI', '18-44 Years (Doses Administered)',\n",
    "       '45-60 Years (Doses Administered)', '60+ Years (Doses Administered)',\n",
    "       '18-44 Years(Individuals Vaccinated)',\n",
    "       '45-60 Years(Individuals Vaccinated)',\n",
    "       '60+ Years(Individuals Vaccinated)'], axis=1)"
   ]
  },
  {
   "cell_type": "code",
   "execution_count": 40,
   "metadata": {},
   "outputs": [
    {
     "data": {
      "text/html": [
       "<div>\n",
       "<style scoped>\n",
       "    .dataframe tbody tr th:only-of-type {\n",
       "        vertical-align: middle;\n",
       "    }\n",
       "\n",
       "    .dataframe tbody tr th {\n",
       "        vertical-align: top;\n",
       "    }\n",
       "\n",
       "    .dataframe thead th {\n",
       "        text-align: right;\n",
       "    }\n",
       "</style>\n",
       "<table border=\"1\" class=\"dataframe\">\n",
       "  <thead>\n",
       "    <tr style=\"text-align: right;\">\n",
       "      <th></th>\n",
       "      <th>Vaccine_date</th>\n",
       "      <th>State</th>\n",
       "      <th>Total Doses Administered</th>\n",
       "      <th>Sessions</th>\n",
       "      <th>Sites</th>\n",
       "      <th>First Dose Administered</th>\n",
       "      <th>Second Dose Administered</th>\n",
       "      <th>Male (Doses Administered)</th>\n",
       "      <th>Female (Doses Administered)</th>\n",
       "      <th>Transgender (Doses Administered)</th>\n",
       "      <th>...</th>\n",
       "      <th>18-44 Years (Doses Administered)</th>\n",
       "      <th>45-60 Years (Doses Administered)</th>\n",
       "      <th>60+ Years (Doses Administered)</th>\n",
       "      <th>18-44 Years(Individuals Vaccinated)</th>\n",
       "      <th>45-60 Years(Individuals Vaccinated)</th>\n",
       "      <th>60+ Years(Individuals Vaccinated)</th>\n",
       "      <th>Male(Individuals Vaccinated)</th>\n",
       "      <th>Female(Individuals Vaccinated)</th>\n",
       "      <th>Transgender(Individuals Vaccinated)</th>\n",
       "      <th>Total Individuals Vaccinated</th>\n",
       "    </tr>\n",
       "  </thead>\n",
       "  <tbody>\n",
       "    <tr>\n",
       "      <th>0</th>\n",
       "      <td>16/01/2021</td>\n",
       "      <td>India</td>\n",
       "      <td>48276.0</td>\n",
       "      <td>3455.0</td>\n",
       "      <td>2957.0</td>\n",
       "      <td>48276.0</td>\n",
       "      <td>0.0</td>\n",
       "      <td>NaN</td>\n",
       "      <td>NaN</td>\n",
       "      <td>NaN</td>\n",
       "      <td>...</td>\n",
       "      <td>NaN</td>\n",
       "      <td>NaN</td>\n",
       "      <td>NaN</td>\n",
       "      <td>NaN</td>\n",
       "      <td>NaN</td>\n",
       "      <td>NaN</td>\n",
       "      <td>23757.0</td>\n",
       "      <td>24517.0</td>\n",
       "      <td>2.0</td>\n",
       "      <td>48276.0</td>\n",
       "    </tr>\n",
       "    <tr>\n",
       "      <th>1</th>\n",
       "      <td>17/01/2021</td>\n",
       "      <td>India</td>\n",
       "      <td>58604.0</td>\n",
       "      <td>8532.0</td>\n",
       "      <td>4954.0</td>\n",
       "      <td>58604.0</td>\n",
       "      <td>0.0</td>\n",
       "      <td>NaN</td>\n",
       "      <td>NaN</td>\n",
       "      <td>NaN</td>\n",
       "      <td>...</td>\n",
       "      <td>NaN</td>\n",
       "      <td>NaN</td>\n",
       "      <td>NaN</td>\n",
       "      <td>NaN</td>\n",
       "      <td>NaN</td>\n",
       "      <td>NaN</td>\n",
       "      <td>27348.0</td>\n",
       "      <td>31252.0</td>\n",
       "      <td>4.0</td>\n",
       "      <td>58604.0</td>\n",
       "    </tr>\n",
       "  </tbody>\n",
       "</table>\n",
       "<p>2 rows × 24 columns</p>\n",
       "</div>"
      ],
      "text/plain": [
       "  Vaccine_date  State  Total Doses Administered  Sessions   Sites   \\\n",
       "0   16/01/2021  India                   48276.0    3455.0   2957.0   \n",
       "1   17/01/2021  India                   58604.0    8532.0   4954.0   \n",
       "\n",
       "   First Dose Administered  Second Dose Administered  \\\n",
       "0                  48276.0                       0.0   \n",
       "1                  58604.0                       0.0   \n",
       "\n",
       "   Male (Doses Administered)  Female (Doses Administered)  \\\n",
       "0                        NaN                          NaN   \n",
       "1                        NaN                          NaN   \n",
       "\n",
       "   Transgender (Doses Administered)  ...  18-44 Years (Doses Administered)  \\\n",
       "0                               NaN  ...                               NaN   \n",
       "1                               NaN  ...                               NaN   \n",
       "\n",
       "   45-60 Years (Doses Administered)  60+ Years (Doses Administered)  \\\n",
       "0                               NaN                             NaN   \n",
       "1                               NaN                             NaN   \n",
       "\n",
       "   18-44 Years(Individuals Vaccinated)  45-60 Years(Individuals Vaccinated)  \\\n",
       "0                                  NaN                                  NaN   \n",
       "1                                  NaN                                  NaN   \n",
       "\n",
       "   60+ Years(Individuals Vaccinated)  Male(Individuals Vaccinated)  \\\n",
       "0                                NaN                       23757.0   \n",
       "1                                NaN                       27348.0   \n",
       "\n",
       "   Female(Individuals Vaccinated)  Transgender(Individuals Vaccinated)  \\\n",
       "0                         24517.0                                  2.0   \n",
       "1                         31252.0                                  4.0   \n",
       "\n",
       "   Total Individuals Vaccinated  \n",
       "0                       48276.0  \n",
       "1                       58604.0  \n",
       "\n",
       "[2 rows x 24 columns]"
      ]
     },
     "execution_count": 40,
     "metadata": {},
     "output_type": "execute_result"
    }
   ],
   "source": [
    "vaccine_df.head(2)"
   ]
  },
  {
   "cell_type": "code",
   "execution_count": 50,
   "metadata": {},
   "outputs": [],
   "source": [
    "import warnings as w\n",
    "w.filterwarnings('ignore')\n",
    "import plotly.graph_objects as go\n",
    "from plotly.subplots import make_subplots\n",
    "import plotly.express as px\n"
   ]
  },
  {
   "cell_type": "code",
   "execution_count": 52,
   "metadata": {},
   "outputs": [
    {
     "ename": "ValueError",
     "evalue": "Mime type rendering requires nbformat>=4.2.0 but it is not installed",
     "output_type": "error",
     "traceback": [
      "\u001b[1;31m---------------------------------------------------------------------------\u001b[0m",
      "\u001b[1;31mValueError\u001b[0m                                Traceback (most recent call last)",
      "File \u001b[1;32m~\\AppData\\Local\\Packages\\PythonSoftwareFoundation.Python.3.12_qbz5n2kfra8p0\\LocalCache\\local-packages\\Python312\\site-packages\\IPython\\core\\formatters.py:925\u001b[0m, in \u001b[0;36mIPythonDisplayFormatter.__call__\u001b[1;34m(self, obj)\u001b[0m\n\u001b[0;32m    923\u001b[0m method \u001b[38;5;241m=\u001b[39m get_real_method(obj, \u001b[38;5;28mself\u001b[39m\u001b[38;5;241m.\u001b[39mprint_method)\n\u001b[0;32m    924\u001b[0m \u001b[38;5;28;01mif\u001b[39;00m method \u001b[38;5;129;01mis\u001b[39;00m \u001b[38;5;129;01mnot\u001b[39;00m \u001b[38;5;28;01mNone\u001b[39;00m:\n\u001b[1;32m--> 925\u001b[0m     \u001b[43mmethod\u001b[49m\u001b[43m(\u001b[49m\u001b[43m)\u001b[49m\n\u001b[0;32m    926\u001b[0m     \u001b[38;5;28;01mreturn\u001b[39;00m \u001b[38;5;28;01mTrue\u001b[39;00m\n",
      "File \u001b[1;32m~\\AppData\\Local\\Packages\\PythonSoftwareFoundation.Python.3.12_qbz5n2kfra8p0\\LocalCache\\local-packages\\Python312\\site-packages\\plotly\\basedatatypes.py:832\u001b[0m, in \u001b[0;36mBaseFigure._ipython_display_\u001b[1;34m(self)\u001b[0m\n\u001b[0;32m    829\u001b[0m \u001b[38;5;28;01mimport\u001b[39;00m \u001b[38;5;21;01mplotly\u001b[39;00m\u001b[38;5;21;01m.\u001b[39;00m\u001b[38;5;21;01mio\u001b[39;00m \u001b[38;5;28;01mas\u001b[39;00m \u001b[38;5;21;01mpio\u001b[39;00m\n\u001b[0;32m    831\u001b[0m \u001b[38;5;28;01mif\u001b[39;00m pio\u001b[38;5;241m.\u001b[39mrenderers\u001b[38;5;241m.\u001b[39mrender_on_display \u001b[38;5;129;01mand\u001b[39;00m pio\u001b[38;5;241m.\u001b[39mrenderers\u001b[38;5;241m.\u001b[39mdefault:\n\u001b[1;32m--> 832\u001b[0m     \u001b[43mpio\u001b[49m\u001b[38;5;241;43m.\u001b[39;49m\u001b[43mshow\u001b[49m\u001b[43m(\u001b[49m\u001b[38;5;28;43mself\u001b[39;49m\u001b[43m)\u001b[49m\n\u001b[0;32m    833\u001b[0m \u001b[38;5;28;01melse\u001b[39;00m:\n\u001b[0;32m    834\u001b[0m     \u001b[38;5;28mprint\u001b[39m(\u001b[38;5;28mrepr\u001b[39m(\u001b[38;5;28mself\u001b[39m))\n",
      "File \u001b[1;32m~\\AppData\\Local\\Packages\\PythonSoftwareFoundation.Python.3.12_qbz5n2kfra8p0\\LocalCache\\local-packages\\Python312\\site-packages\\plotly\\io\\_renderers.py:394\u001b[0m, in \u001b[0;36mshow\u001b[1;34m(fig, renderer, validate, **kwargs)\u001b[0m\n\u001b[0;32m    389\u001b[0m         \u001b[38;5;28;01mraise\u001b[39;00m \u001b[38;5;167;01mValueError\u001b[39;00m(\n\u001b[0;32m    390\u001b[0m             \u001b[38;5;124m\"\u001b[39m\u001b[38;5;124mMime type rendering requires ipython but it is not installed\u001b[39m\u001b[38;5;124m\"\u001b[39m\n\u001b[0;32m    391\u001b[0m         )\n\u001b[0;32m    393\u001b[0m     \u001b[38;5;28;01mif\u001b[39;00m \u001b[38;5;129;01mnot\u001b[39;00m nbformat \u001b[38;5;129;01mor\u001b[39;00m Version(nbformat\u001b[38;5;241m.\u001b[39m__version__) \u001b[38;5;241m<\u001b[39m Version(\u001b[38;5;124m\"\u001b[39m\u001b[38;5;124m4.2.0\u001b[39m\u001b[38;5;124m\"\u001b[39m):\n\u001b[1;32m--> 394\u001b[0m         \u001b[38;5;28;01mraise\u001b[39;00m \u001b[38;5;167;01mValueError\u001b[39;00m(\n\u001b[0;32m    395\u001b[0m             \u001b[38;5;124m\"\u001b[39m\u001b[38;5;124mMime type rendering requires nbformat>=4.2.0 but it is not installed\u001b[39m\u001b[38;5;124m\"\u001b[39m\n\u001b[0;32m    396\u001b[0m         )\n\u001b[0;32m    398\u001b[0m     ipython_display\u001b[38;5;241m.\u001b[39mdisplay(bundle, raw\u001b[38;5;241m=\u001b[39m\u001b[38;5;28;01mTrue\u001b[39;00m)\n\u001b[0;32m    400\u001b[0m \u001b[38;5;66;03m# external renderers\u001b[39;00m\n",
      "\u001b[1;31mValueError\u001b[0m: Mime type rendering requires nbformat>=4.2.0 but it is not installed"
     ]
    },
    {
     "data": {
      "application/vnd.plotly.v1+json": {
       "config": {
        "plotlyServerURL": "https://plot.ly"
       },
       "data": [
        {
         "domain": {
          "x": [
           0,
           1
          ],
          "y": [
           0,
           1
          ]
         },
         "hovertemplate": "label=%{label}<br>value=%{value}<extra></extra>",
         "labels": [
          "Male",
          "Female"
         ],
         "legendgroup": "",
         "name": "",
         "showlegend": true,
         "type": "pie",
         "values": [
          27009983996,
          23639554465
         ]
        }
       ],
       "layout": {
        "legend": {
         "tracegroupgap": 0
        },
        "template": {
         "data": {
          "bar": [
           {
            "error_x": {
             "color": "#2a3f5f"
            },
            "error_y": {
             "color": "#2a3f5f"
            },
            "marker": {
             "line": {
              "color": "#E5ECF6",
              "width": 0.5
             },
             "pattern": {
              "fillmode": "overlay",
              "size": 10,
              "solidity": 0.2
             }
            },
            "type": "bar"
           }
          ],
          "barpolar": [
           {
            "marker": {
             "line": {
              "color": "#E5ECF6",
              "width": 0.5
             },
             "pattern": {
              "fillmode": "overlay",
              "size": 10,
              "solidity": 0.2
             }
            },
            "type": "barpolar"
           }
          ],
          "carpet": [
           {
            "aaxis": {
             "endlinecolor": "#2a3f5f",
             "gridcolor": "white",
             "linecolor": "white",
             "minorgridcolor": "white",
             "startlinecolor": "#2a3f5f"
            },
            "baxis": {
             "endlinecolor": "#2a3f5f",
             "gridcolor": "white",
             "linecolor": "white",
             "minorgridcolor": "white",
             "startlinecolor": "#2a3f5f"
            },
            "type": "carpet"
           }
          ],
          "choropleth": [
           {
            "colorbar": {
             "outlinewidth": 0,
             "ticks": ""
            },
            "type": "choropleth"
           }
          ],
          "contour": [
           {
            "colorbar": {
             "outlinewidth": 0,
             "ticks": ""
            },
            "colorscale": [
             [
              0,
              "#0d0887"
             ],
             [
              0.1111111111111111,
              "#46039f"
             ],
             [
              0.2222222222222222,
              "#7201a8"
             ],
             [
              0.3333333333333333,
              "#9c179e"
             ],
             [
              0.4444444444444444,
              "#bd3786"
             ],
             [
              0.5555555555555556,
              "#d8576b"
             ],
             [
              0.6666666666666666,
              "#ed7953"
             ],
             [
              0.7777777777777778,
              "#fb9f3a"
             ],
             [
              0.8888888888888888,
              "#fdca26"
             ],
             [
              1,
              "#f0f921"
             ]
            ],
            "type": "contour"
           }
          ],
          "contourcarpet": [
           {
            "colorbar": {
             "outlinewidth": 0,
             "ticks": ""
            },
            "type": "contourcarpet"
           }
          ],
          "heatmap": [
           {
            "colorbar": {
             "outlinewidth": 0,
             "ticks": ""
            },
            "colorscale": [
             [
              0,
              "#0d0887"
             ],
             [
              0.1111111111111111,
              "#46039f"
             ],
             [
              0.2222222222222222,
              "#7201a8"
             ],
             [
              0.3333333333333333,
              "#9c179e"
             ],
             [
              0.4444444444444444,
              "#bd3786"
             ],
             [
              0.5555555555555556,
              "#d8576b"
             ],
             [
              0.6666666666666666,
              "#ed7953"
             ],
             [
              0.7777777777777778,
              "#fb9f3a"
             ],
             [
              0.8888888888888888,
              "#fdca26"
             ],
             [
              1,
              "#f0f921"
             ]
            ],
            "type": "heatmap"
           }
          ],
          "heatmapgl": [
           {
            "colorbar": {
             "outlinewidth": 0,
             "ticks": ""
            },
            "colorscale": [
             [
              0,
              "#0d0887"
             ],
             [
              0.1111111111111111,
              "#46039f"
             ],
             [
              0.2222222222222222,
              "#7201a8"
             ],
             [
              0.3333333333333333,
              "#9c179e"
             ],
             [
              0.4444444444444444,
              "#bd3786"
             ],
             [
              0.5555555555555556,
              "#d8576b"
             ],
             [
              0.6666666666666666,
              "#ed7953"
             ],
             [
              0.7777777777777778,
              "#fb9f3a"
             ],
             [
              0.8888888888888888,
              "#fdca26"
             ],
             [
              1,
              "#f0f921"
             ]
            ],
            "type": "heatmapgl"
           }
          ],
          "histogram": [
           {
            "marker": {
             "pattern": {
              "fillmode": "overlay",
              "size": 10,
              "solidity": 0.2
             }
            },
            "type": "histogram"
           }
          ],
          "histogram2d": [
           {
            "colorbar": {
             "outlinewidth": 0,
             "ticks": ""
            },
            "colorscale": [
             [
              0,
              "#0d0887"
             ],
             [
              0.1111111111111111,
              "#46039f"
             ],
             [
              0.2222222222222222,
              "#7201a8"
             ],
             [
              0.3333333333333333,
              "#9c179e"
             ],
             [
              0.4444444444444444,
              "#bd3786"
             ],
             [
              0.5555555555555556,
              "#d8576b"
             ],
             [
              0.6666666666666666,
              "#ed7953"
             ],
             [
              0.7777777777777778,
              "#fb9f3a"
             ],
             [
              0.8888888888888888,
              "#fdca26"
             ],
             [
              1,
              "#f0f921"
             ]
            ],
            "type": "histogram2d"
           }
          ],
          "histogram2dcontour": [
           {
            "colorbar": {
             "outlinewidth": 0,
             "ticks": ""
            },
            "colorscale": [
             [
              0,
              "#0d0887"
             ],
             [
              0.1111111111111111,
              "#46039f"
             ],
             [
              0.2222222222222222,
              "#7201a8"
             ],
             [
              0.3333333333333333,
              "#9c179e"
             ],
             [
              0.4444444444444444,
              "#bd3786"
             ],
             [
              0.5555555555555556,
              "#d8576b"
             ],
             [
              0.6666666666666666,
              "#ed7953"
             ],
             [
              0.7777777777777778,
              "#fb9f3a"
             ],
             [
              0.8888888888888888,
              "#fdca26"
             ],
             [
              1,
              "#f0f921"
             ]
            ],
            "type": "histogram2dcontour"
           }
          ],
          "mesh3d": [
           {
            "colorbar": {
             "outlinewidth": 0,
             "ticks": ""
            },
            "type": "mesh3d"
           }
          ],
          "parcoords": [
           {
            "line": {
             "colorbar": {
              "outlinewidth": 0,
              "ticks": ""
             }
            },
            "type": "parcoords"
           }
          ],
          "pie": [
           {
            "automargin": true,
            "type": "pie"
           }
          ],
          "scatter": [
           {
            "fillpattern": {
             "fillmode": "overlay",
             "size": 10,
             "solidity": 0.2
            },
            "type": "scatter"
           }
          ],
          "scatter3d": [
           {
            "line": {
             "colorbar": {
              "outlinewidth": 0,
              "ticks": ""
             }
            },
            "marker": {
             "colorbar": {
              "outlinewidth": 0,
              "ticks": ""
             }
            },
            "type": "scatter3d"
           }
          ],
          "scattercarpet": [
           {
            "marker": {
             "colorbar": {
              "outlinewidth": 0,
              "ticks": ""
             }
            },
            "type": "scattercarpet"
           }
          ],
          "scattergeo": [
           {
            "marker": {
             "colorbar": {
              "outlinewidth": 0,
              "ticks": ""
             }
            },
            "type": "scattergeo"
           }
          ],
          "scattergl": [
           {
            "marker": {
             "colorbar": {
              "outlinewidth": 0,
              "ticks": ""
             }
            },
            "type": "scattergl"
           }
          ],
          "scattermapbox": [
           {
            "marker": {
             "colorbar": {
              "outlinewidth": 0,
              "ticks": ""
             }
            },
            "type": "scattermapbox"
           }
          ],
          "scatterpolar": [
           {
            "marker": {
             "colorbar": {
              "outlinewidth": 0,
              "ticks": ""
             }
            },
            "type": "scatterpolar"
           }
          ],
          "scatterpolargl": [
           {
            "marker": {
             "colorbar": {
              "outlinewidth": 0,
              "ticks": ""
             }
            },
            "type": "scatterpolargl"
           }
          ],
          "scatterternary": [
           {
            "marker": {
             "colorbar": {
              "outlinewidth": 0,
              "ticks": ""
             }
            },
            "type": "scatterternary"
           }
          ],
          "surface": [
           {
            "colorbar": {
             "outlinewidth": 0,
             "ticks": ""
            },
            "colorscale": [
             [
              0,
              "#0d0887"
             ],
             [
              0.1111111111111111,
              "#46039f"
             ],
             [
              0.2222222222222222,
              "#7201a8"
             ],
             [
              0.3333333333333333,
              "#9c179e"
             ],
             [
              0.4444444444444444,
              "#bd3786"
             ],
             [
              0.5555555555555556,
              "#d8576b"
             ],
             [
              0.6666666666666666,
              "#ed7953"
             ],
             [
              0.7777777777777778,
              "#fb9f3a"
             ],
             [
              0.8888888888888888,
              "#fdca26"
             ],
             [
              1,
              "#f0f921"
             ]
            ],
            "type": "surface"
           }
          ],
          "table": [
           {
            "cells": {
             "fill": {
              "color": "#EBF0F8"
             },
             "line": {
              "color": "white"
             }
            },
            "header": {
             "fill": {
              "color": "#C8D4E3"
             },
             "line": {
              "color": "white"
             }
            },
            "type": "table"
           }
          ]
         },
         "layout": {
          "annotationdefaults": {
           "arrowcolor": "#2a3f5f",
           "arrowhead": 0,
           "arrowwidth": 1
          },
          "autotypenumbers": "strict",
          "coloraxis": {
           "colorbar": {
            "outlinewidth": 0,
            "ticks": ""
           }
          },
          "colorscale": {
           "diverging": [
            [
             0,
             "#8e0152"
            ],
            [
             0.1,
             "#c51b7d"
            ],
            [
             0.2,
             "#de77ae"
            ],
            [
             0.3,
             "#f1b6da"
            ],
            [
             0.4,
             "#fde0ef"
            ],
            [
             0.5,
             "#f7f7f7"
            ],
            [
             0.6,
             "#e6f5d0"
            ],
            [
             0.7,
             "#b8e186"
            ],
            [
             0.8,
             "#7fbc41"
            ],
            [
             0.9,
             "#4d9221"
            ],
            [
             1,
             "#276419"
            ]
           ],
           "sequential": [
            [
             0,
             "#0d0887"
            ],
            [
             0.1111111111111111,
             "#46039f"
            ],
            [
             0.2222222222222222,
             "#7201a8"
            ],
            [
             0.3333333333333333,
             "#9c179e"
            ],
            [
             0.4444444444444444,
             "#bd3786"
            ],
            [
             0.5555555555555556,
             "#d8576b"
            ],
            [
             0.6666666666666666,
             "#ed7953"
            ],
            [
             0.7777777777777778,
             "#fb9f3a"
            ],
            [
             0.8888888888888888,
             "#fdca26"
            ],
            [
             1,
             "#f0f921"
            ]
           ],
           "sequentialminus": [
            [
             0,
             "#0d0887"
            ],
            [
             0.1111111111111111,
             "#46039f"
            ],
            [
             0.2222222222222222,
             "#7201a8"
            ],
            [
             0.3333333333333333,
             "#9c179e"
            ],
            [
             0.4444444444444444,
             "#bd3786"
            ],
            [
             0.5555555555555556,
             "#d8576b"
            ],
            [
             0.6666666666666666,
             "#ed7953"
            ],
            [
             0.7777777777777778,
             "#fb9f3a"
            ],
            [
             0.8888888888888888,
             "#fdca26"
            ],
            [
             1,
             "#f0f921"
            ]
           ]
          },
          "colorway": [
           "#636efa",
           "#EF553B",
           "#00cc96",
           "#ab63fa",
           "#FFA15A",
           "#19d3f3",
           "#FF6692",
           "#B6E880",
           "#FF97FF",
           "#FECB52"
          ],
          "font": {
           "color": "#2a3f5f"
          },
          "geo": {
           "bgcolor": "white",
           "lakecolor": "white",
           "landcolor": "#E5ECF6",
           "showlakes": true,
           "showland": true,
           "subunitcolor": "white"
          },
          "hoverlabel": {
           "align": "left"
          },
          "hovermode": "closest",
          "mapbox": {
           "style": "light"
          },
          "paper_bgcolor": "white",
          "plot_bgcolor": "#E5ECF6",
          "polar": {
           "angularaxis": {
            "gridcolor": "white",
            "linecolor": "white",
            "ticks": ""
           },
           "bgcolor": "#E5ECF6",
           "radialaxis": {
            "gridcolor": "white",
            "linecolor": "white",
            "ticks": ""
           }
          },
          "scene": {
           "xaxis": {
            "backgroundcolor": "#E5ECF6",
            "gridcolor": "white",
            "gridwidth": 2,
            "linecolor": "white",
            "showbackground": true,
            "ticks": "",
            "zerolinecolor": "white"
           },
           "yaxis": {
            "backgroundcolor": "#E5ECF6",
            "gridcolor": "white",
            "gridwidth": 2,
            "linecolor": "white",
            "showbackground": true,
            "ticks": "",
            "zerolinecolor": "white"
           },
           "zaxis": {
            "backgroundcolor": "#E5ECF6",
            "gridcolor": "white",
            "gridwidth": 2,
            "linecolor": "white",
            "showbackground": true,
            "ticks": "",
            "zerolinecolor": "white"
           }
          },
          "shapedefaults": {
           "line": {
            "color": "#2a3f5f"
           }
          },
          "ternary": {
           "aaxis": {
            "gridcolor": "white",
            "linecolor": "white",
            "ticks": ""
           },
           "baxis": {
            "gridcolor": "white",
            "linecolor": "white",
            "ticks": ""
           },
           "bgcolor": "#E5ECF6",
           "caxis": {
            "gridcolor": "white",
            "linecolor": "white",
            "ticks": ""
           }
          },
          "title": {
           "x": 0.05
          },
          "xaxis": {
           "automargin": true,
           "gridcolor": "white",
           "linecolor": "white",
           "ticks": "",
           "title": {
            "standoff": 15
           },
           "zerolinecolor": "white",
           "zerolinewidth": 2
          },
          "yaxis": {
           "automargin": true,
           "gridcolor": "white",
           "linecolor": "white",
           "ticks": "",
           "title": {
            "standoff": 15
           },
           "zerolinecolor": "white",
           "zerolinewidth": 2
          }
         }
        },
        "title": {
         "text": "Male and Femae Vaccination"
        }
       }
      },
      "text/html": [
       "<div>                        <script type=\"text/javascript\">window.PlotlyConfig = {MathJaxConfig: 'local'};</script>\n",
       "        <script charset=\"utf-8\" src=\"https://cdn.plot.ly/plotly-2.34.0.min.js\"></script>                <div id=\"affe5550-297d-4d39-8b0f-f0e6b88a1077\" class=\"plotly-graph-div\" style=\"height:100%; width:100%;\"></div>            <script type=\"text/javascript\">                                    window.PLOTLYENV=window.PLOTLYENV || {};                                    if (document.getElementById(\"affe5550-297d-4d39-8b0f-f0e6b88a1077\")) {                    Plotly.newPlot(                        \"affe5550-297d-4d39-8b0f-f0e6b88a1077\",                        [{\"domain\":{\"x\":[0.0,1.0],\"y\":[0.0,1.0]},\"hovertemplate\":\"label=%{label}\\u003cbr\\u003evalue=%{value}\\u003cextra\\u003e\\u003c\\u002fextra\\u003e\",\"labels\":[\"Male\",\"Female\"],\"legendgroup\":\"\",\"name\":\"\",\"showlegend\":true,\"values\":[27009983996.0,23639554465.0],\"type\":\"pie\"}],                        {\"template\":{\"data\":{\"histogram2dcontour\":[{\"type\":\"histogram2dcontour\",\"colorbar\":{\"outlinewidth\":0,\"ticks\":\"\"},\"colorscale\":[[0.0,\"#0d0887\"],[0.1111111111111111,\"#46039f\"],[0.2222222222222222,\"#7201a8\"],[0.3333333333333333,\"#9c179e\"],[0.4444444444444444,\"#bd3786\"],[0.5555555555555556,\"#d8576b\"],[0.6666666666666666,\"#ed7953\"],[0.7777777777777778,\"#fb9f3a\"],[0.8888888888888888,\"#fdca26\"],[1.0,\"#f0f921\"]]}],\"choropleth\":[{\"type\":\"choropleth\",\"colorbar\":{\"outlinewidth\":0,\"ticks\":\"\"}}],\"histogram2d\":[{\"type\":\"histogram2d\",\"colorbar\":{\"outlinewidth\":0,\"ticks\":\"\"},\"colorscale\":[[0.0,\"#0d0887\"],[0.1111111111111111,\"#46039f\"],[0.2222222222222222,\"#7201a8\"],[0.3333333333333333,\"#9c179e\"],[0.4444444444444444,\"#bd3786\"],[0.5555555555555556,\"#d8576b\"],[0.6666666666666666,\"#ed7953\"],[0.7777777777777778,\"#fb9f3a\"],[0.8888888888888888,\"#fdca26\"],[1.0,\"#f0f921\"]]}],\"heatmap\":[{\"type\":\"heatmap\",\"colorbar\":{\"outlinewidth\":0,\"ticks\":\"\"},\"colorscale\":[[0.0,\"#0d0887\"],[0.1111111111111111,\"#46039f\"],[0.2222222222222222,\"#7201a8\"],[0.3333333333333333,\"#9c179e\"],[0.4444444444444444,\"#bd3786\"],[0.5555555555555556,\"#d8576b\"],[0.6666666666666666,\"#ed7953\"],[0.7777777777777778,\"#fb9f3a\"],[0.8888888888888888,\"#fdca26\"],[1.0,\"#f0f921\"]]}],\"heatmapgl\":[{\"type\":\"heatmapgl\",\"colorbar\":{\"outlinewidth\":0,\"ticks\":\"\"},\"colorscale\":[[0.0,\"#0d0887\"],[0.1111111111111111,\"#46039f\"],[0.2222222222222222,\"#7201a8\"],[0.3333333333333333,\"#9c179e\"],[0.4444444444444444,\"#bd3786\"],[0.5555555555555556,\"#d8576b\"],[0.6666666666666666,\"#ed7953\"],[0.7777777777777778,\"#fb9f3a\"],[0.8888888888888888,\"#fdca26\"],[1.0,\"#f0f921\"]]}],\"contourcarpet\":[{\"type\":\"contourcarpet\",\"colorbar\":{\"outlinewidth\":0,\"ticks\":\"\"}}],\"contour\":[{\"type\":\"contour\",\"colorbar\":{\"outlinewidth\":0,\"ticks\":\"\"},\"colorscale\":[[0.0,\"#0d0887\"],[0.1111111111111111,\"#46039f\"],[0.2222222222222222,\"#7201a8\"],[0.3333333333333333,\"#9c179e\"],[0.4444444444444444,\"#bd3786\"],[0.5555555555555556,\"#d8576b\"],[0.6666666666666666,\"#ed7953\"],[0.7777777777777778,\"#fb9f3a\"],[0.8888888888888888,\"#fdca26\"],[1.0,\"#f0f921\"]]}],\"surface\":[{\"type\":\"surface\",\"colorbar\":{\"outlinewidth\":0,\"ticks\":\"\"},\"colorscale\":[[0.0,\"#0d0887\"],[0.1111111111111111,\"#46039f\"],[0.2222222222222222,\"#7201a8\"],[0.3333333333333333,\"#9c179e\"],[0.4444444444444444,\"#bd3786\"],[0.5555555555555556,\"#d8576b\"],[0.6666666666666666,\"#ed7953\"],[0.7777777777777778,\"#fb9f3a\"],[0.8888888888888888,\"#fdca26\"],[1.0,\"#f0f921\"]]}],\"mesh3d\":[{\"type\":\"mesh3d\",\"colorbar\":{\"outlinewidth\":0,\"ticks\":\"\"}}],\"scatter\":[{\"fillpattern\":{\"fillmode\":\"overlay\",\"size\":10,\"solidity\":0.2},\"type\":\"scatter\"}],\"parcoords\":[{\"type\":\"parcoords\",\"line\":{\"colorbar\":{\"outlinewidth\":0,\"ticks\":\"\"}}}],\"scatterpolargl\":[{\"type\":\"scatterpolargl\",\"marker\":{\"colorbar\":{\"outlinewidth\":0,\"ticks\":\"\"}}}],\"bar\":[{\"error_x\":{\"color\":\"#2a3f5f\"},\"error_y\":{\"color\":\"#2a3f5f\"},\"marker\":{\"line\":{\"color\":\"#E5ECF6\",\"width\":0.5},\"pattern\":{\"fillmode\":\"overlay\",\"size\":10,\"solidity\":0.2}},\"type\":\"bar\"}],\"scattergeo\":[{\"type\":\"scattergeo\",\"marker\":{\"colorbar\":{\"outlinewidth\":0,\"ticks\":\"\"}}}],\"scatterpolar\":[{\"type\":\"scatterpolar\",\"marker\":{\"colorbar\":{\"outlinewidth\":0,\"ticks\":\"\"}}}],\"histogram\":[{\"marker\":{\"pattern\":{\"fillmode\":\"overlay\",\"size\":10,\"solidity\":0.2}},\"type\":\"histogram\"}],\"scattergl\":[{\"type\":\"scattergl\",\"marker\":{\"colorbar\":{\"outlinewidth\":0,\"ticks\":\"\"}}}],\"scatter3d\":[{\"type\":\"scatter3d\",\"line\":{\"colorbar\":{\"outlinewidth\":0,\"ticks\":\"\"}},\"marker\":{\"colorbar\":{\"outlinewidth\":0,\"ticks\":\"\"}}}],\"scattermapbox\":[{\"type\":\"scattermapbox\",\"marker\":{\"colorbar\":{\"outlinewidth\":0,\"ticks\":\"\"}}}],\"scatterternary\":[{\"type\":\"scatterternary\",\"marker\":{\"colorbar\":{\"outlinewidth\":0,\"ticks\":\"\"}}}],\"scattercarpet\":[{\"type\":\"scattercarpet\",\"marker\":{\"colorbar\":{\"outlinewidth\":0,\"ticks\":\"\"}}}],\"carpet\":[{\"aaxis\":{\"endlinecolor\":\"#2a3f5f\",\"gridcolor\":\"white\",\"linecolor\":\"white\",\"minorgridcolor\":\"white\",\"startlinecolor\":\"#2a3f5f\"},\"baxis\":{\"endlinecolor\":\"#2a3f5f\",\"gridcolor\":\"white\",\"linecolor\":\"white\",\"minorgridcolor\":\"white\",\"startlinecolor\":\"#2a3f5f\"},\"type\":\"carpet\"}],\"table\":[{\"cells\":{\"fill\":{\"color\":\"#EBF0F8\"},\"line\":{\"color\":\"white\"}},\"header\":{\"fill\":{\"color\":\"#C8D4E3\"},\"line\":{\"color\":\"white\"}},\"type\":\"table\"}],\"barpolar\":[{\"marker\":{\"line\":{\"color\":\"#E5ECF6\",\"width\":0.5},\"pattern\":{\"fillmode\":\"overlay\",\"size\":10,\"solidity\":0.2}},\"type\":\"barpolar\"}],\"pie\":[{\"automargin\":true,\"type\":\"pie\"}]},\"layout\":{\"autotypenumbers\":\"strict\",\"colorway\":[\"#636efa\",\"#EF553B\",\"#00cc96\",\"#ab63fa\",\"#FFA15A\",\"#19d3f3\",\"#FF6692\",\"#B6E880\",\"#FF97FF\",\"#FECB52\"],\"font\":{\"color\":\"#2a3f5f\"},\"hovermode\":\"closest\",\"hoverlabel\":{\"align\":\"left\"},\"paper_bgcolor\":\"white\",\"plot_bgcolor\":\"#E5ECF6\",\"polar\":{\"bgcolor\":\"#E5ECF6\",\"angularaxis\":{\"gridcolor\":\"white\",\"linecolor\":\"white\",\"ticks\":\"\"},\"radialaxis\":{\"gridcolor\":\"white\",\"linecolor\":\"white\",\"ticks\":\"\"}},\"ternary\":{\"bgcolor\":\"#E5ECF6\",\"aaxis\":{\"gridcolor\":\"white\",\"linecolor\":\"white\",\"ticks\":\"\"},\"baxis\":{\"gridcolor\":\"white\",\"linecolor\":\"white\",\"ticks\":\"\"},\"caxis\":{\"gridcolor\":\"white\",\"linecolor\":\"white\",\"ticks\":\"\"}},\"coloraxis\":{\"colorbar\":{\"outlinewidth\":0,\"ticks\":\"\"}},\"colorscale\":{\"sequential\":[[0.0,\"#0d0887\"],[0.1111111111111111,\"#46039f\"],[0.2222222222222222,\"#7201a8\"],[0.3333333333333333,\"#9c179e\"],[0.4444444444444444,\"#bd3786\"],[0.5555555555555556,\"#d8576b\"],[0.6666666666666666,\"#ed7953\"],[0.7777777777777778,\"#fb9f3a\"],[0.8888888888888888,\"#fdca26\"],[1.0,\"#f0f921\"]],\"sequentialminus\":[[0.0,\"#0d0887\"],[0.1111111111111111,\"#46039f\"],[0.2222222222222222,\"#7201a8\"],[0.3333333333333333,\"#9c179e\"],[0.4444444444444444,\"#bd3786\"],[0.5555555555555556,\"#d8576b\"],[0.6666666666666666,\"#ed7953\"],[0.7777777777777778,\"#fb9f3a\"],[0.8888888888888888,\"#fdca26\"],[1.0,\"#f0f921\"]],\"diverging\":[[0,\"#8e0152\"],[0.1,\"#c51b7d\"],[0.2,\"#de77ae\"],[0.3,\"#f1b6da\"],[0.4,\"#fde0ef\"],[0.5,\"#f7f7f7\"],[0.6,\"#e6f5d0\"],[0.7,\"#b8e186\"],[0.8,\"#7fbc41\"],[0.9,\"#4d9221\"],[1,\"#276419\"]]},\"xaxis\":{\"gridcolor\":\"white\",\"linecolor\":\"white\",\"ticks\":\"\",\"title\":{\"standoff\":15},\"zerolinecolor\":\"white\",\"automargin\":true,\"zerolinewidth\":2},\"yaxis\":{\"gridcolor\":\"white\",\"linecolor\":\"white\",\"ticks\":\"\",\"title\":{\"standoff\":15},\"zerolinecolor\":\"white\",\"automargin\":true,\"zerolinewidth\":2},\"scene\":{\"xaxis\":{\"backgroundcolor\":\"#E5ECF6\",\"gridcolor\":\"white\",\"linecolor\":\"white\",\"showbackground\":true,\"ticks\":\"\",\"zerolinecolor\":\"white\",\"gridwidth\":2},\"yaxis\":{\"backgroundcolor\":\"#E5ECF6\",\"gridcolor\":\"white\",\"linecolor\":\"white\",\"showbackground\":true,\"ticks\":\"\",\"zerolinecolor\":\"white\",\"gridwidth\":2},\"zaxis\":{\"backgroundcolor\":\"#E5ECF6\",\"gridcolor\":\"white\",\"linecolor\":\"white\",\"showbackground\":true,\"ticks\":\"\",\"zerolinecolor\":\"white\",\"gridwidth\":2}},\"shapedefaults\":{\"line\":{\"color\":\"#2a3f5f\"}},\"annotationdefaults\":{\"arrowcolor\":\"#2a3f5f\",\"arrowhead\":0,\"arrowwidth\":1},\"geo\":{\"bgcolor\":\"white\",\"landcolor\":\"#E5ECF6\",\"subunitcolor\":\"white\",\"showland\":true,\"showlakes\":true,\"lakecolor\":\"white\"},\"title\":{\"x\":0.05},\"mapbox\":{\"style\":\"light\"}}},\"legend\":{\"tracegroupgap\":0},\"title\":{\"text\":\"Male and Femae Vaccination\"}},                        {\"responsive\": true}                    )                };                            </script>        </div>"
      ],
      "text/plain": [
       "Figure({\n",
       "    'data': [{'domain': {'x': [0.0, 1.0], 'y': [0.0, 1.0]},\n",
       "              'hovertemplate': 'label=%{label}<br>value=%{value}<extra></extra>',\n",
       "              'labels': array(['Male', 'Female'], dtype=object),\n",
       "              'legendgroup': '',\n",
       "              'name': '',\n",
       "              'showlegend': True,\n",
       "              'type': 'pie',\n",
       "              'values': array([2.70099840e+10, 2.36395545e+10])}],\n",
       "    'layout': {'legend': {'tracegroupgap': 0}, 'template': '...', 'title': {'text': 'Male and Femae Vaccination'}}\n",
       "})"
      ]
     },
     "execution_count": 52,
     "metadata": {},
     "output_type": "execute_result"
    }
   ],
   "source": [
    "# Male vs Female vaccination \n",
    "\n",
    "male= vaccination[\"Male (Doses Administered)\"].sum()\n",
    "female= vaccination[\"Female (Doses Administered)\"].sum()\n",
    "px.pie(names= [\"Male\", \"Female\"],  values= [male, female],title=\"Male and Femae Vaccination\")"
   ]
  },
  {
   "cell_type": "code",
   "execution_count": 53,
   "metadata": {},
   "outputs": [
    {
     "data": {
      "text/html": [
       "<div>\n",
       "<style scoped>\n",
       "    .dataframe tbody tr th:only-of-type {\n",
       "        vertical-align: middle;\n",
       "    }\n",
       "\n",
       "    .dataframe tbody tr th {\n",
       "        vertical-align: top;\n",
       "    }\n",
       "\n",
       "    .dataframe thead th {\n",
       "        text-align: right;\n",
       "    }\n",
       "</style>\n",
       "<table border=\"1\" class=\"dataframe\">\n",
       "  <thead>\n",
       "    <tr style=\"text-align: right;\">\n",
       "      <th></th>\n",
       "      <th>Vaccine_date</th>\n",
       "      <th>State</th>\n",
       "      <th>Total Doses Administered</th>\n",
       "      <th>Sessions</th>\n",
       "      <th>Sites</th>\n",
       "      <th>First Dose Administered</th>\n",
       "      <th>Second Dose Administered</th>\n",
       "      <th>Male (Doses Administered)</th>\n",
       "      <th>Female (Doses Administered)</th>\n",
       "      <th>Transgender (Doses Administered)</th>\n",
       "      <th>...</th>\n",
       "      <th>18-44 Years (Doses Administered)</th>\n",
       "      <th>45-60 Years (Doses Administered)</th>\n",
       "      <th>60+ Years (Doses Administered)</th>\n",
       "      <th>18-44 Years(Individuals Vaccinated)</th>\n",
       "      <th>45-60 Years(Individuals Vaccinated)</th>\n",
       "      <th>60+ Years(Individuals Vaccinated)</th>\n",
       "      <th>Male(Individuals Vaccinated)</th>\n",
       "      <th>Female(Individuals Vaccinated)</th>\n",
       "      <th>Transgender(Individuals Vaccinated)</th>\n",
       "      <th>Total Individuals Vaccinated</th>\n",
       "    </tr>\n",
       "  </thead>\n",
       "  <tbody>\n",
       "    <tr>\n",
       "      <th>212</th>\n",
       "      <td>16/01/2021</td>\n",
       "      <td>Andaman and Nicobar Islands</td>\n",
       "      <td>23.0</td>\n",
       "      <td>2.0</td>\n",
       "      <td>2.0</td>\n",
       "      <td>23.0</td>\n",
       "      <td>0.0</td>\n",
       "      <td>12.0</td>\n",
       "      <td>11.0</td>\n",
       "      <td>0.0</td>\n",
       "      <td>...</td>\n",
       "      <td>NaN</td>\n",
       "      <td>NaN</td>\n",
       "      <td>NaN</td>\n",
       "      <td>NaN</td>\n",
       "      <td>NaN</td>\n",
       "      <td>NaN</td>\n",
       "      <td>NaN</td>\n",
       "      <td>NaN</td>\n",
       "      <td>NaN</td>\n",
       "      <td>23.0</td>\n",
       "    </tr>\n",
       "    <tr>\n",
       "      <th>213</th>\n",
       "      <td>17/01/2021</td>\n",
       "      <td>Andaman and Nicobar Islands</td>\n",
       "      <td>23.0</td>\n",
       "      <td>2.0</td>\n",
       "      <td>2.0</td>\n",
       "      <td>23.0</td>\n",
       "      <td>0.0</td>\n",
       "      <td>12.0</td>\n",
       "      <td>11.0</td>\n",
       "      <td>0.0</td>\n",
       "      <td>...</td>\n",
       "      <td>NaN</td>\n",
       "      <td>NaN</td>\n",
       "      <td>NaN</td>\n",
       "      <td>NaN</td>\n",
       "      <td>NaN</td>\n",
       "      <td>NaN</td>\n",
       "      <td>NaN</td>\n",
       "      <td>NaN</td>\n",
       "      <td>NaN</td>\n",
       "      <td>23.0</td>\n",
       "    </tr>\n",
       "  </tbody>\n",
       "</table>\n",
       "<p>2 rows × 24 columns</p>\n",
       "</div>"
      ],
      "text/plain": [
       "    Vaccine_date                        State  Total Doses Administered  \\\n",
       "212   16/01/2021  Andaman and Nicobar Islands                      23.0   \n",
       "213   17/01/2021  Andaman and Nicobar Islands                      23.0   \n",
       "\n",
       "     Sessions   Sites   First Dose Administered  Second Dose Administered  \\\n",
       "212       2.0      2.0                     23.0                       0.0   \n",
       "213       2.0      2.0                     23.0                       0.0   \n",
       "\n",
       "     Male (Doses Administered)  Female (Doses Administered)  \\\n",
       "212                       12.0                         11.0   \n",
       "213                       12.0                         11.0   \n",
       "\n",
       "     Transgender (Doses Administered)  ...  18-44 Years (Doses Administered)  \\\n",
       "212                               0.0  ...                               NaN   \n",
       "213                               0.0  ...                               NaN   \n",
       "\n",
       "     45-60 Years (Doses Administered)  60+ Years (Doses Administered)  \\\n",
       "212                               NaN                             NaN   \n",
       "213                               NaN                             NaN   \n",
       "\n",
       "     18-44 Years(Individuals Vaccinated)  45-60 Years(Individuals Vaccinated)  \\\n",
       "212                                  NaN                                  NaN   \n",
       "213                                  NaN                                  NaN   \n",
       "\n",
       "     60+ Years(Individuals Vaccinated)  Male(Individuals Vaccinated)  \\\n",
       "212                                NaN                           NaN   \n",
       "213                                NaN                           NaN   \n",
       "\n",
       "     Female(Individuals Vaccinated)  Transgender(Individuals Vaccinated)  \\\n",
       "212                             NaN                                  NaN   \n",
       "213                             NaN                                  NaN   \n",
       "\n",
       "     Total Individuals Vaccinated  \n",
       "212                          23.0  \n",
       "213                          23.0  \n",
       "\n",
       "[2 rows x 24 columns]"
      ]
     },
     "execution_count": 53,
     "metadata": {},
     "output_type": "execute_result"
    }
   ],
   "source": [
    "# Remove rows if state = india \n",
    "\n",
    "vaccine = vaccine_df[vaccine_df['State']!='India']\n",
    "vaccine.head(2)\n"
   ]
  },
  {
   "cell_type": "code",
   "execution_count": 56,
   "metadata": {},
   "outputs": [
    {
     "data": {
      "text/html": [
       "<div>\n",
       "<style scoped>\n",
       "    .dataframe tbody tr th:only-of-type {\n",
       "        vertical-align: middle;\n",
       "    }\n",
       "\n",
       "    .dataframe tbody tr th {\n",
       "        vertical-align: top;\n",
       "    }\n",
       "\n",
       "    .dataframe thead th {\n",
       "        text-align: right;\n",
       "    }\n",
       "</style>\n",
       "<table border=\"1\" class=\"dataframe\">\n",
       "  <thead>\n",
       "    <tr style=\"text-align: right;\">\n",
       "      <th></th>\n",
       "      <th>Vaccine_date</th>\n",
       "      <th>State</th>\n",
       "      <th>Total Doses Administered</th>\n",
       "      <th>Sessions</th>\n",
       "      <th>Sites</th>\n",
       "      <th>First Dose Administered</th>\n",
       "      <th>Second Dose Administered</th>\n",
       "      <th>Male (Doses Administered)</th>\n",
       "      <th>Female (Doses Administered)</th>\n",
       "      <th>Transgender (Doses Administered)</th>\n",
       "      <th>...</th>\n",
       "      <th>18-44 Years (Doses Administered)</th>\n",
       "      <th>45-60 Years (Doses Administered)</th>\n",
       "      <th>60+ Years (Doses Administered)</th>\n",
       "      <th>18-44 Years(Individuals Vaccinated)</th>\n",
       "      <th>45-60 Years(Individuals Vaccinated)</th>\n",
       "      <th>60+ Years(Individuals Vaccinated)</th>\n",
       "      <th>Male(Individuals Vaccinated)</th>\n",
       "      <th>Female(Individuals Vaccinated)</th>\n",
       "      <th>Transgender(Individuals Vaccinated)</th>\n",
       "      <th>Total</th>\n",
       "    </tr>\n",
       "  </thead>\n",
       "  <tbody>\n",
       "    <tr>\n",
       "      <th>212</th>\n",
       "      <td>16/01/2021</td>\n",
       "      <td>Andaman and Nicobar Islands</td>\n",
       "      <td>23.0</td>\n",
       "      <td>2.0</td>\n",
       "      <td>2.0</td>\n",
       "      <td>23.0</td>\n",
       "      <td>0.0</td>\n",
       "      <td>12.0</td>\n",
       "      <td>11.0</td>\n",
       "      <td>0.0</td>\n",
       "      <td>...</td>\n",
       "      <td>NaN</td>\n",
       "      <td>NaN</td>\n",
       "      <td>NaN</td>\n",
       "      <td>NaN</td>\n",
       "      <td>NaN</td>\n",
       "      <td>NaN</td>\n",
       "      <td>NaN</td>\n",
       "      <td>NaN</td>\n",
       "      <td>NaN</td>\n",
       "      <td>23.0</td>\n",
       "    </tr>\n",
       "    <tr>\n",
       "      <th>213</th>\n",
       "      <td>17/01/2021</td>\n",
       "      <td>Andaman and Nicobar Islands</td>\n",
       "      <td>23.0</td>\n",
       "      <td>2.0</td>\n",
       "      <td>2.0</td>\n",
       "      <td>23.0</td>\n",
       "      <td>0.0</td>\n",
       "      <td>12.0</td>\n",
       "      <td>11.0</td>\n",
       "      <td>0.0</td>\n",
       "      <td>...</td>\n",
       "      <td>NaN</td>\n",
       "      <td>NaN</td>\n",
       "      <td>NaN</td>\n",
       "      <td>NaN</td>\n",
       "      <td>NaN</td>\n",
       "      <td>NaN</td>\n",
       "      <td>NaN</td>\n",
       "      <td>NaN</td>\n",
       "      <td>NaN</td>\n",
       "      <td>23.0</td>\n",
       "    </tr>\n",
       "  </tbody>\n",
       "</table>\n",
       "<p>2 rows × 24 columns</p>\n",
       "</div>"
      ],
      "text/plain": [
       "    Vaccine_date                        State  Total Doses Administered  \\\n",
       "212   16/01/2021  Andaman and Nicobar Islands                      23.0   \n",
       "213   17/01/2021  Andaman and Nicobar Islands                      23.0   \n",
       "\n",
       "     Sessions   Sites   First Dose Administered  Second Dose Administered  \\\n",
       "212       2.0      2.0                     23.0                       0.0   \n",
       "213       2.0      2.0                     23.0                       0.0   \n",
       "\n",
       "     Male (Doses Administered)  Female (Doses Administered)  \\\n",
       "212                       12.0                         11.0   \n",
       "213                       12.0                         11.0   \n",
       "\n",
       "     Transgender (Doses Administered)  ...  18-44 Years (Doses Administered)  \\\n",
       "212                               0.0  ...                               NaN   \n",
       "213                               0.0  ...                               NaN   \n",
       "\n",
       "     45-60 Years (Doses Administered)  60+ Years (Doses Administered)  \\\n",
       "212                               NaN                             NaN   \n",
       "213                               NaN                             NaN   \n",
       "\n",
       "     18-44 Years(Individuals Vaccinated)  45-60 Years(Individuals Vaccinated)  \\\n",
       "212                                  NaN                                  NaN   \n",
       "213                                  NaN                                  NaN   \n",
       "\n",
       "     60+ Years(Individuals Vaccinated)  Male(Individuals Vaccinated)  \\\n",
       "212                                NaN                           NaN   \n",
       "213                                NaN                           NaN   \n",
       "\n",
       "     Female(Individuals Vaccinated)  Transgender(Individuals Vaccinated)  \\\n",
       "212                             NaN                                  NaN   \n",
       "213                             NaN                                  NaN   \n",
       "\n",
       "     Total  \n",
       "212   23.0  \n",
       "213   23.0  \n",
       "\n",
       "[2 rows x 24 columns]"
      ]
     },
     "execution_count": 56,
     "metadata": {},
     "output_type": "execute_result"
    }
   ],
   "source": [
    "vaccine.rename(columns= {'Total Individuals Vaccinated' : 'Total'}, inplace=True)\n",
    "vaccine.head(2)"
   ]
  },
  {
   "cell_type": "code",
   "execution_count": 57,
   "metadata": {},
   "outputs": [
    {
     "data": {
      "text/html": [
       "<div>\n",
       "<style scoped>\n",
       "    .dataframe tbody tr th:only-of-type {\n",
       "        vertical-align: middle;\n",
       "    }\n",
       "\n",
       "    .dataframe tbody tr th {\n",
       "        vertical-align: top;\n",
       "    }\n",
       "\n",
       "    .dataframe thead th {\n",
       "        text-align: right;\n",
       "    }\n",
       "</style>\n",
       "<table border=\"1\" class=\"dataframe\">\n",
       "  <thead>\n",
       "    <tr style=\"text-align: right;\">\n",
       "      <th></th>\n",
       "      <th>Total</th>\n",
       "    </tr>\n",
       "    <tr>\n",
       "      <th>State</th>\n",
       "      <th></th>\n",
       "    </tr>\n",
       "  </thead>\n",
       "  <tbody>\n",
       "    <tr>\n",
       "      <th>Maharashtra</th>\n",
       "      <td>1.403075e+09</td>\n",
       "    </tr>\n",
       "    <tr>\n",
       "      <th>Uttar Pradesh</th>\n",
       "      <td>1.200575e+09</td>\n",
       "    </tr>\n",
       "    <tr>\n",
       "      <th>Rajasthan</th>\n",
       "      <td>1.141163e+09</td>\n",
       "    </tr>\n",
       "    <tr>\n",
       "      <th>Gujarat</th>\n",
       "      <td>1.078261e+09</td>\n",
       "    </tr>\n",
       "    <tr>\n",
       "      <th>West Bengal</th>\n",
       "      <td>9.250227e+08</td>\n",
       "    </tr>\n",
       "  </tbody>\n",
       "</table>\n",
       "</div>"
      ],
      "text/plain": [
       "                      Total\n",
       "State                      \n",
       "Maharashtra    1.403075e+09\n",
       "Uttar Pradesh  1.200575e+09\n",
       "Rajasthan      1.141163e+09\n",
       "Gujarat        1.078261e+09\n",
       "West Bengal    9.250227e+08"
      ]
     },
     "execution_count": 57,
     "metadata": {},
     "output_type": "execute_result"
    }
   ],
   "source": [
    "# Most vaccinated states \n",
    "\n",
    "max_vac = vaccine.groupby(by = 'State')['Total'].sum().to_frame('Total')\n",
    "max_vac = max_vac.sort_values(by='Total', ascending=False)[:5]\n",
    "max_vac"
   ]
  },
  {
   "cell_type": "code",
   "execution_count": 58,
   "metadata": {},
   "outputs": [
    {
     "data": {
      "image/png": "[encoded data removed]",
      "text/plain": [
       "<Figure size 1600x900 with 1 Axes>"
      ]
     },
     "metadata": {},
     "output_type": "display_data"
    }
   ],
   "source": [
    "fig= plt.figure(figsize=(16, 9))\n",
    "plt.title(\"Top 5 Vaccinated stated in India\", size= 20)\n",
    "ax = sns.barplot(data=max_vac.iloc[:10], x=max_vac.index, y=max_vac.Total,\n",
    "                 palette='viridis', linewidth= 2, edgecolor='red')\n",
    "plt.xlabel(\"States\")\n",
    "plt.ylabel(\"Vaccination\")\n",
    "plt.show()"
   ]
  }
 ],
 "metadata": {
  "kernelspec": {
   "display_name": "Python 3",
   "language": "python",
   "name": "python3"
  },
  "language_info": {
   "codemirror_mode": {
    "name": "ipython",
    "version": 3
   },
   "file_extension": ".py",
   "mimetype": "text/x-python",
   "name": "python",
   "nbconvert_exporter": "python",
   "pygments_lexer": "ipython3",
   "version": "3.12.4"
  }
 },
 "nbformat": 4,
 "nbformat_minor": 2
}
